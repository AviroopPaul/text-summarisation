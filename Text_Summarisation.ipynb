{
  "nbformat": 4,
  "nbformat_minor": 0,
  "metadata": {
    "colab": {
      "provenance": []
    },
    "kernelspec": {
      "name": "python3",
      "display_name": "Python 3"
    },
    "language_info": {
      "name": "python"
    },
    "widgets": {
      "application/vnd.jupyter.widget-state+json": {
        "8de523a9605241a687c4d9361bf1f1bb": {
          "model_module": "@jupyter-widgets/controls",
          "model_name": "HBoxModel",
          "model_module_version": "1.5.0",
          "state": {
            "_dom_classes": [],
            "_model_module": "@jupyter-widgets/controls",
            "_model_module_version": "1.5.0",
            "_model_name": "HBoxModel",
            "_view_count": null,
            "_view_module": "@jupyter-widgets/controls",
            "_view_module_version": "1.5.0",
            "_view_name": "HBoxView",
            "box_style": "",
            "children": [
              "IPY_MODEL_f9ac1661901f4f9dbfca390e9f1045c6",
              "IPY_MODEL_9c9cb2e66fcc4131ac240ecdbc029a34",
              "IPY_MODEL_5bb03a01d31d4513b760aac720333f2a"
            ],
            "layout": "IPY_MODEL_872017eee0794f48a46ac10165d444ab"
          }
        },
        "f9ac1661901f4f9dbfca390e9f1045c6": {
          "model_module": "@jupyter-widgets/controls",
          "model_name": "HTMLModel",
          "model_module_version": "1.5.0",
          "state": {
            "_dom_classes": [],
            "_model_module": "@jupyter-widgets/controls",
            "_model_module_version": "1.5.0",
            "_model_name": "HTMLModel",
            "_view_count": null,
            "_view_module": "@jupyter-widgets/controls",
            "_view_module_version": "1.5.0",
            "_view_name": "HTMLView",
            "description": "",
            "description_tooltip": null,
            "layout": "IPY_MODEL_191df0349d6846e1afe470038a23774e",
            "placeholder": "​",
            "style": "IPY_MODEL_4c58d097bb5944f0b36ea84de75def05",
            "value": "Downloading: 100%"
          }
        },
        "9c9cb2e66fcc4131ac240ecdbc029a34": {
          "model_module": "@jupyter-widgets/controls",
          "model_name": "FloatProgressModel",
          "model_module_version": "1.5.0",
          "state": {
            "_dom_classes": [],
            "_model_module": "@jupyter-widgets/controls",
            "_model_module_version": "1.5.0",
            "_model_name": "FloatProgressModel",
            "_view_count": null,
            "_view_module": "@jupyter-widgets/controls",
            "_view_module_version": "1.5.0",
            "_view_name": "ProgressView",
            "bar_style": "success",
            "description": "",
            "description_tooltip": null,
            "layout": "IPY_MODEL_b019dcb6a34546b2a592c33de98e7111",
            "max": 1585,
            "min": 0,
            "orientation": "horizontal",
            "style": "IPY_MODEL_19ed7d4bd1854e448c1f3c86a3c07073",
            "value": 1585
          }
        },
        "5bb03a01d31d4513b760aac720333f2a": {
          "model_module": "@jupyter-widgets/controls",
          "model_name": "HTMLModel",
          "model_module_version": "1.5.0",
          "state": {
            "_dom_classes": [],
            "_model_module": "@jupyter-widgets/controls",
            "_model_module_version": "1.5.0",
            "_model_name": "HTMLModel",
            "_view_count": null,
            "_view_module": "@jupyter-widgets/controls",
            "_view_module_version": "1.5.0",
            "_view_name": "HTMLView",
            "description": "",
            "description_tooltip": null,
            "layout": "IPY_MODEL_d94fc0e4417e40139781cba3d928c511",
            "placeholder": "​",
            "style": "IPY_MODEL_e5d1011036cb43daac22662cca3ba5dd",
            "value": " 1.58k/1.58k [00:00&lt;00:00, 68.1kB/s]"
          }
        },
        "872017eee0794f48a46ac10165d444ab": {
          "model_module": "@jupyter-widgets/base",
          "model_name": "LayoutModel",
          "model_module_version": "1.2.0",
          "state": {
            "_model_module": "@jupyter-widgets/base",
            "_model_module_version": "1.2.0",
            "_model_name": "LayoutModel",
            "_view_count": null,
            "_view_module": "@jupyter-widgets/base",
            "_view_module_version": "1.2.0",
            "_view_name": "LayoutView",
            "align_content": null,
            "align_items": null,
            "align_self": null,
            "border": null,
            "bottom": null,
            "display": null,
            "flex": null,
            "flex_flow": null,
            "grid_area": null,
            "grid_auto_columns": null,
            "grid_auto_flow": null,
            "grid_auto_rows": null,
            "grid_column": null,
            "grid_gap": null,
            "grid_row": null,
            "grid_template_areas": null,
            "grid_template_columns": null,
            "grid_template_rows": null,
            "height": null,
            "justify_content": null,
            "justify_items": null,
            "left": null,
            "margin": null,
            "max_height": null,
            "max_width": null,
            "min_height": null,
            "min_width": null,
            "object_fit": null,
            "object_position": null,
            "order": null,
            "overflow": null,
            "overflow_x": null,
            "overflow_y": null,
            "padding": null,
            "right": null,
            "top": null,
            "visibility": null,
            "width": null
          }
        },
        "191df0349d6846e1afe470038a23774e": {
          "model_module": "@jupyter-widgets/base",
          "model_name": "LayoutModel",
          "model_module_version": "1.2.0",
          "state": {
            "_model_module": "@jupyter-widgets/base",
            "_model_module_version": "1.2.0",
            "_model_name": "LayoutModel",
            "_view_count": null,
            "_view_module": "@jupyter-widgets/base",
            "_view_module_version": "1.2.0",
            "_view_name": "LayoutView",
            "align_content": null,
            "align_items": null,
            "align_self": null,
            "border": null,
            "bottom": null,
            "display": null,
            "flex": null,
            "flex_flow": null,
            "grid_area": null,
            "grid_auto_columns": null,
            "grid_auto_flow": null,
            "grid_auto_rows": null,
            "grid_column": null,
            "grid_gap": null,
            "grid_row": null,
            "grid_template_areas": null,
            "grid_template_columns": null,
            "grid_template_rows": null,
            "height": null,
            "justify_content": null,
            "justify_items": null,
            "left": null,
            "margin": null,
            "max_height": null,
            "max_width": null,
            "min_height": null,
            "min_width": null,
            "object_fit": null,
            "object_position": null,
            "order": null,
            "overflow": null,
            "overflow_x": null,
            "overflow_y": null,
            "padding": null,
            "right": null,
            "top": null,
            "visibility": null,
            "width": null
          }
        },
        "4c58d097bb5944f0b36ea84de75def05": {
          "model_module": "@jupyter-widgets/controls",
          "model_name": "DescriptionStyleModel",
          "model_module_version": "1.5.0",
          "state": {
            "_model_module": "@jupyter-widgets/controls",
            "_model_module_version": "1.5.0",
            "_model_name": "DescriptionStyleModel",
            "_view_count": null,
            "_view_module": "@jupyter-widgets/base",
            "_view_module_version": "1.2.0",
            "_view_name": "StyleView",
            "description_width": ""
          }
        },
        "b019dcb6a34546b2a592c33de98e7111": {
          "model_module": "@jupyter-widgets/base",
          "model_name": "LayoutModel",
          "model_module_version": "1.2.0",
          "state": {
            "_model_module": "@jupyter-widgets/base",
            "_model_module_version": "1.2.0",
            "_model_name": "LayoutModel",
            "_view_count": null,
            "_view_module": "@jupyter-widgets/base",
            "_view_module_version": "1.2.0",
            "_view_name": "LayoutView",
            "align_content": null,
            "align_items": null,
            "align_self": null,
            "border": null,
            "bottom": null,
            "display": null,
            "flex": null,
            "flex_flow": null,
            "grid_area": null,
            "grid_auto_columns": null,
            "grid_auto_flow": null,
            "grid_auto_rows": null,
            "grid_column": null,
            "grid_gap": null,
            "grid_row": null,
            "grid_template_areas": null,
            "grid_template_columns": null,
            "grid_template_rows": null,
            "height": null,
            "justify_content": null,
            "justify_items": null,
            "left": null,
            "margin": null,
            "max_height": null,
            "max_width": null,
            "min_height": null,
            "min_width": null,
            "object_fit": null,
            "object_position": null,
            "order": null,
            "overflow": null,
            "overflow_x": null,
            "overflow_y": null,
            "padding": null,
            "right": null,
            "top": null,
            "visibility": null,
            "width": null
          }
        },
        "19ed7d4bd1854e448c1f3c86a3c07073": {
          "model_module": "@jupyter-widgets/controls",
          "model_name": "ProgressStyleModel",
          "model_module_version": "1.5.0",
          "state": {
            "_model_module": "@jupyter-widgets/controls",
            "_model_module_version": "1.5.0",
            "_model_name": "ProgressStyleModel",
            "_view_count": null,
            "_view_module": "@jupyter-widgets/base",
            "_view_module_version": "1.2.0",
            "_view_name": "StyleView",
            "bar_color": null,
            "description_width": ""
          }
        },
        "d94fc0e4417e40139781cba3d928c511": {
          "model_module": "@jupyter-widgets/base",
          "model_name": "LayoutModel",
          "model_module_version": "1.2.0",
          "state": {
            "_model_module": "@jupyter-widgets/base",
            "_model_module_version": "1.2.0",
            "_model_name": "LayoutModel",
            "_view_count": null,
            "_view_module": "@jupyter-widgets/base",
            "_view_module_version": "1.2.0",
            "_view_name": "LayoutView",
            "align_content": null,
            "align_items": null,
            "align_self": null,
            "border": null,
            "bottom": null,
            "display": null,
            "flex": null,
            "flex_flow": null,
            "grid_area": null,
            "grid_auto_columns": null,
            "grid_auto_flow": null,
            "grid_auto_rows": null,
            "grid_column": null,
            "grid_gap": null,
            "grid_row": null,
            "grid_template_areas": null,
            "grid_template_columns": null,
            "grid_template_rows": null,
            "height": null,
            "justify_content": null,
            "justify_items": null,
            "left": null,
            "margin": null,
            "max_height": null,
            "max_width": null,
            "min_height": null,
            "min_width": null,
            "object_fit": null,
            "object_position": null,
            "order": null,
            "overflow": null,
            "overflow_x": null,
            "overflow_y": null,
            "padding": null,
            "right": null,
            "top": null,
            "visibility": null,
            "width": null
          }
        },
        "e5d1011036cb43daac22662cca3ba5dd": {
          "model_module": "@jupyter-widgets/controls",
          "model_name": "DescriptionStyleModel",
          "model_module_version": "1.5.0",
          "state": {
            "_model_module": "@jupyter-widgets/controls",
            "_model_module_version": "1.5.0",
            "_model_name": "DescriptionStyleModel",
            "_view_count": null,
            "_view_module": "@jupyter-widgets/base",
            "_view_module_version": "1.2.0",
            "_view_name": "StyleView",
            "description_width": ""
          }
        },
        "4fbef7f4dd334df1bf2b2d48830d6fe4": {
          "model_module": "@jupyter-widgets/controls",
          "model_name": "HBoxModel",
          "model_module_version": "1.5.0",
          "state": {
            "_dom_classes": [],
            "_model_module": "@jupyter-widgets/controls",
            "_model_module_version": "1.5.0",
            "_model_name": "HBoxModel",
            "_view_count": null,
            "_view_module": "@jupyter-widgets/controls",
            "_view_module_version": "1.5.0",
            "_view_name": "HBoxView",
            "box_style": "",
            "children": [
              "IPY_MODEL_9d9e96131a9842acb7317e0724ec9091",
              "IPY_MODEL_c6dd0eef2b7440d5a93249162838f72e",
              "IPY_MODEL_e8497a5a912045a1b210291999e91702"
            ],
            "layout": "IPY_MODEL_acf4d035b2d1433984e76f3999fb6fd7"
          }
        },
        "9d9e96131a9842acb7317e0724ec9091": {
          "model_module": "@jupyter-widgets/controls",
          "model_name": "HTMLModel",
          "model_module_version": "1.5.0",
          "state": {
            "_dom_classes": [],
            "_model_module": "@jupyter-widgets/controls",
            "_model_module_version": "1.5.0",
            "_model_name": "HTMLModel",
            "_view_count": null,
            "_view_module": "@jupyter-widgets/controls",
            "_view_module_version": "1.5.0",
            "_view_name": "HTMLView",
            "description": "",
            "description_tooltip": null,
            "layout": "IPY_MODEL_d3b6c346bbc0461bbe5280c0ddfd8d4a",
            "placeholder": "​",
            "style": "IPY_MODEL_cd8d0c0f2ec84417b211c820f62bfc63",
            "value": "Downloading: 100%"
          }
        },
        "c6dd0eef2b7440d5a93249162838f72e": {
          "model_module": "@jupyter-widgets/controls",
          "model_name": "FloatProgressModel",
          "model_module_version": "1.5.0",
          "state": {
            "_dom_classes": [],
            "_model_module": "@jupyter-widgets/controls",
            "_model_module_version": "1.5.0",
            "_model_name": "FloatProgressModel",
            "_view_count": null,
            "_view_module": "@jupyter-widgets/controls",
            "_view_module_version": "1.5.0",
            "_view_name": "ProgressView",
            "bar_style": "success",
            "description": "",
            "description_tooltip": null,
            "layout": "IPY_MODEL_e3015bc00ba64fdcb9177de9207e6ac3",
            "max": 898823,
            "min": 0,
            "orientation": "horizontal",
            "style": "IPY_MODEL_6a772327d57246aea6a712ab6f8e4c2e",
            "value": 898823
          }
        },
        "e8497a5a912045a1b210291999e91702": {
          "model_module": "@jupyter-widgets/controls",
          "model_name": "HTMLModel",
          "model_module_version": "1.5.0",
          "state": {
            "_dom_classes": [],
            "_model_module": "@jupyter-widgets/controls",
            "_model_module_version": "1.5.0",
            "_model_name": "HTMLModel",
            "_view_count": null,
            "_view_module": "@jupyter-widgets/controls",
            "_view_module_version": "1.5.0",
            "_view_name": "HTMLView",
            "description": "",
            "description_tooltip": null,
            "layout": "IPY_MODEL_c7836f70b87e4d37b6f6d41a3ae82ef4",
            "placeholder": "​",
            "style": "IPY_MODEL_b999d7abbfda440388b47fc485fd8af7",
            "value": " 899k/899k [00:00&lt;00:00, 24.0MB/s]"
          }
        },
        "acf4d035b2d1433984e76f3999fb6fd7": {
          "model_module": "@jupyter-widgets/base",
          "model_name": "LayoutModel",
          "model_module_version": "1.2.0",
          "state": {
            "_model_module": "@jupyter-widgets/base",
            "_model_module_version": "1.2.0",
            "_model_name": "LayoutModel",
            "_view_count": null,
            "_view_module": "@jupyter-widgets/base",
            "_view_module_version": "1.2.0",
            "_view_name": "LayoutView",
            "align_content": null,
            "align_items": null,
            "align_self": null,
            "border": null,
            "bottom": null,
            "display": null,
            "flex": null,
            "flex_flow": null,
            "grid_area": null,
            "grid_auto_columns": null,
            "grid_auto_flow": null,
            "grid_auto_rows": null,
            "grid_column": null,
            "grid_gap": null,
            "grid_row": null,
            "grid_template_areas": null,
            "grid_template_columns": null,
            "grid_template_rows": null,
            "height": null,
            "justify_content": null,
            "justify_items": null,
            "left": null,
            "margin": null,
            "max_height": null,
            "max_width": null,
            "min_height": null,
            "min_width": null,
            "object_fit": null,
            "object_position": null,
            "order": null,
            "overflow": null,
            "overflow_x": null,
            "overflow_y": null,
            "padding": null,
            "right": null,
            "top": null,
            "visibility": null,
            "width": null
          }
        },
        "d3b6c346bbc0461bbe5280c0ddfd8d4a": {
          "model_module": "@jupyter-widgets/base",
          "model_name": "LayoutModel",
          "model_module_version": "1.2.0",
          "state": {
            "_model_module": "@jupyter-widgets/base",
            "_model_module_version": "1.2.0",
            "_model_name": "LayoutModel",
            "_view_count": null,
            "_view_module": "@jupyter-widgets/base",
            "_view_module_version": "1.2.0",
            "_view_name": "LayoutView",
            "align_content": null,
            "align_items": null,
            "align_self": null,
            "border": null,
            "bottom": null,
            "display": null,
            "flex": null,
            "flex_flow": null,
            "grid_area": null,
            "grid_auto_columns": null,
            "grid_auto_flow": null,
            "grid_auto_rows": null,
            "grid_column": null,
            "grid_gap": null,
            "grid_row": null,
            "grid_template_areas": null,
            "grid_template_columns": null,
            "grid_template_rows": null,
            "height": null,
            "justify_content": null,
            "justify_items": null,
            "left": null,
            "margin": null,
            "max_height": null,
            "max_width": null,
            "min_height": null,
            "min_width": null,
            "object_fit": null,
            "object_position": null,
            "order": null,
            "overflow": null,
            "overflow_x": null,
            "overflow_y": null,
            "padding": null,
            "right": null,
            "top": null,
            "visibility": null,
            "width": null
          }
        },
        "cd8d0c0f2ec84417b211c820f62bfc63": {
          "model_module": "@jupyter-widgets/controls",
          "model_name": "DescriptionStyleModel",
          "model_module_version": "1.5.0",
          "state": {
            "_model_module": "@jupyter-widgets/controls",
            "_model_module_version": "1.5.0",
            "_model_name": "DescriptionStyleModel",
            "_view_count": null,
            "_view_module": "@jupyter-widgets/base",
            "_view_module_version": "1.2.0",
            "_view_name": "StyleView",
            "description_width": ""
          }
        },
        "e3015bc00ba64fdcb9177de9207e6ac3": {
          "model_module": "@jupyter-widgets/base",
          "model_name": "LayoutModel",
          "model_module_version": "1.2.0",
          "state": {
            "_model_module": "@jupyter-widgets/base",
            "_model_module_version": "1.2.0",
            "_model_name": "LayoutModel",
            "_view_count": null,
            "_view_module": "@jupyter-widgets/base",
            "_view_module_version": "1.2.0",
            "_view_name": "LayoutView",
            "align_content": null,
            "align_items": null,
            "align_self": null,
            "border": null,
            "bottom": null,
            "display": null,
            "flex": null,
            "flex_flow": null,
            "grid_area": null,
            "grid_auto_columns": null,
            "grid_auto_flow": null,
            "grid_auto_rows": null,
            "grid_column": null,
            "grid_gap": null,
            "grid_row": null,
            "grid_template_areas": null,
            "grid_template_columns": null,
            "grid_template_rows": null,
            "height": null,
            "justify_content": null,
            "justify_items": null,
            "left": null,
            "margin": null,
            "max_height": null,
            "max_width": null,
            "min_height": null,
            "min_width": null,
            "object_fit": null,
            "object_position": null,
            "order": null,
            "overflow": null,
            "overflow_x": null,
            "overflow_y": null,
            "padding": null,
            "right": null,
            "top": null,
            "visibility": null,
            "width": null
          }
        },
        "6a772327d57246aea6a712ab6f8e4c2e": {
          "model_module": "@jupyter-widgets/controls",
          "model_name": "ProgressStyleModel",
          "model_module_version": "1.5.0",
          "state": {
            "_model_module": "@jupyter-widgets/controls",
            "_model_module_version": "1.5.0",
            "_model_name": "ProgressStyleModel",
            "_view_count": null,
            "_view_module": "@jupyter-widgets/base",
            "_view_module_version": "1.2.0",
            "_view_name": "StyleView",
            "bar_color": null,
            "description_width": ""
          }
        },
        "c7836f70b87e4d37b6f6d41a3ae82ef4": {
          "model_module": "@jupyter-widgets/base",
          "model_name": "LayoutModel",
          "model_module_version": "1.2.0",
          "state": {
            "_model_module": "@jupyter-widgets/base",
            "_model_module_version": "1.2.0",
            "_model_name": "LayoutModel",
            "_view_count": null,
            "_view_module": "@jupyter-widgets/base",
            "_view_module_version": "1.2.0",
            "_view_name": "LayoutView",
            "align_content": null,
            "align_items": null,
            "align_self": null,
            "border": null,
            "bottom": null,
            "display": null,
            "flex": null,
            "flex_flow": null,
            "grid_area": null,
            "grid_auto_columns": null,
            "grid_auto_flow": null,
            "grid_auto_rows": null,
            "grid_column": null,
            "grid_gap": null,
            "grid_row": null,
            "grid_template_areas": null,
            "grid_template_columns": null,
            "grid_template_rows": null,
            "height": null,
            "justify_content": null,
            "justify_items": null,
            "left": null,
            "margin": null,
            "max_height": null,
            "max_width": null,
            "min_height": null,
            "min_width": null,
            "object_fit": null,
            "object_position": null,
            "order": null,
            "overflow": null,
            "overflow_x": null,
            "overflow_y": null,
            "padding": null,
            "right": null,
            "top": null,
            "visibility": null,
            "width": null
          }
        },
        "b999d7abbfda440388b47fc485fd8af7": {
          "model_module": "@jupyter-widgets/controls",
          "model_name": "DescriptionStyleModel",
          "model_module_version": "1.5.0",
          "state": {
            "_model_module": "@jupyter-widgets/controls",
            "_model_module_version": "1.5.0",
            "_model_name": "DescriptionStyleModel",
            "_view_count": null,
            "_view_module": "@jupyter-widgets/base",
            "_view_module_version": "1.2.0",
            "_view_name": "StyleView",
            "description_width": ""
          }
        },
        "99e4694aebfa47a4aa04df5c8b2be11f": {
          "model_module": "@jupyter-widgets/controls",
          "model_name": "HBoxModel",
          "model_module_version": "1.5.0",
          "state": {
            "_dom_classes": [],
            "_model_module": "@jupyter-widgets/controls",
            "_model_module_version": "1.5.0",
            "_model_name": "HBoxModel",
            "_view_count": null,
            "_view_module": "@jupyter-widgets/controls",
            "_view_module_version": "1.5.0",
            "_view_name": "HBoxView",
            "box_style": "",
            "children": [
              "IPY_MODEL_2604ec0b33f9461a8c84c7d97a5a196e",
              "IPY_MODEL_c805e9ee5f0d46fc8f0faaefdbce746a",
              "IPY_MODEL_c7eb7379ae8548d0ba1ea21000c0f591"
            ],
            "layout": "IPY_MODEL_884c032f389947249bbc5d33df165c8f"
          }
        },
        "2604ec0b33f9461a8c84c7d97a5a196e": {
          "model_module": "@jupyter-widgets/controls",
          "model_name": "HTMLModel",
          "model_module_version": "1.5.0",
          "state": {
            "_dom_classes": [],
            "_model_module": "@jupyter-widgets/controls",
            "_model_module_version": "1.5.0",
            "_model_name": "HTMLModel",
            "_view_count": null,
            "_view_module": "@jupyter-widgets/controls",
            "_view_module_version": "1.5.0",
            "_view_name": "HTMLView",
            "description": "",
            "description_tooltip": null,
            "layout": "IPY_MODEL_e62d6c8fe82a4e0aba0b1c876a98a4fa",
            "placeholder": "​",
            "style": "IPY_MODEL_3a919fadb8364aba80a0d095d8f75e1d",
            "value": "Downloading: 100%"
          }
        },
        "c805e9ee5f0d46fc8f0faaefdbce746a": {
          "model_module": "@jupyter-widgets/controls",
          "model_name": "FloatProgressModel",
          "model_module_version": "1.5.0",
          "state": {
            "_dom_classes": [],
            "_model_module": "@jupyter-widgets/controls",
            "_model_module_version": "1.5.0",
            "_model_name": "FloatProgressModel",
            "_view_count": null,
            "_view_module": "@jupyter-widgets/controls",
            "_view_module_version": "1.5.0",
            "_view_name": "ProgressView",
            "bar_style": "success",
            "description": "",
            "description_tooltip": null,
            "layout": "IPY_MODEL_a3d5574baab448659444dd5a163429eb",
            "max": 456318,
            "min": 0,
            "orientation": "horizontal",
            "style": "IPY_MODEL_f936b4b7e538420ba1eca005849e9aed",
            "value": 456318
          }
        },
        "c7eb7379ae8548d0ba1ea21000c0f591": {
          "model_module": "@jupyter-widgets/controls",
          "model_name": "HTMLModel",
          "model_module_version": "1.5.0",
          "state": {
            "_dom_classes": [],
            "_model_module": "@jupyter-widgets/controls",
            "_model_module_version": "1.5.0",
            "_model_name": "HTMLModel",
            "_view_count": null,
            "_view_module": "@jupyter-widgets/controls",
            "_view_module_version": "1.5.0",
            "_view_name": "HTMLView",
            "description": "",
            "description_tooltip": null,
            "layout": "IPY_MODEL_3f371df6581143e1a4553736e7b6311a",
            "placeholder": "​",
            "style": "IPY_MODEL_e6764da635f0458eafa4be94477a01b9",
            "value": " 456k/456k [00:00&lt;00:00, 12.4MB/s]"
          }
        },
        "884c032f389947249bbc5d33df165c8f": {
          "model_module": "@jupyter-widgets/base",
          "model_name": "LayoutModel",
          "model_module_version": "1.2.0",
          "state": {
            "_model_module": "@jupyter-widgets/base",
            "_model_module_version": "1.2.0",
            "_model_name": "LayoutModel",
            "_view_count": null,
            "_view_module": "@jupyter-widgets/base",
            "_view_module_version": "1.2.0",
            "_view_name": "LayoutView",
            "align_content": null,
            "align_items": null,
            "align_self": null,
            "border": null,
            "bottom": null,
            "display": null,
            "flex": null,
            "flex_flow": null,
            "grid_area": null,
            "grid_auto_columns": null,
            "grid_auto_flow": null,
            "grid_auto_rows": null,
            "grid_column": null,
            "grid_gap": null,
            "grid_row": null,
            "grid_template_areas": null,
            "grid_template_columns": null,
            "grid_template_rows": null,
            "height": null,
            "justify_content": null,
            "justify_items": null,
            "left": null,
            "margin": null,
            "max_height": null,
            "max_width": null,
            "min_height": null,
            "min_width": null,
            "object_fit": null,
            "object_position": null,
            "order": null,
            "overflow": null,
            "overflow_x": null,
            "overflow_y": null,
            "padding": null,
            "right": null,
            "top": null,
            "visibility": null,
            "width": null
          }
        },
        "e62d6c8fe82a4e0aba0b1c876a98a4fa": {
          "model_module": "@jupyter-widgets/base",
          "model_name": "LayoutModel",
          "model_module_version": "1.2.0",
          "state": {
            "_model_module": "@jupyter-widgets/base",
            "_model_module_version": "1.2.0",
            "_model_name": "LayoutModel",
            "_view_count": null,
            "_view_module": "@jupyter-widgets/base",
            "_view_module_version": "1.2.0",
            "_view_name": "LayoutView",
            "align_content": null,
            "align_items": null,
            "align_self": null,
            "border": null,
            "bottom": null,
            "display": null,
            "flex": null,
            "flex_flow": null,
            "grid_area": null,
            "grid_auto_columns": null,
            "grid_auto_flow": null,
            "grid_auto_rows": null,
            "grid_column": null,
            "grid_gap": null,
            "grid_row": null,
            "grid_template_areas": null,
            "grid_template_columns": null,
            "grid_template_rows": null,
            "height": null,
            "justify_content": null,
            "justify_items": null,
            "left": null,
            "margin": null,
            "max_height": null,
            "max_width": null,
            "min_height": null,
            "min_width": null,
            "object_fit": null,
            "object_position": null,
            "order": null,
            "overflow": null,
            "overflow_x": null,
            "overflow_y": null,
            "padding": null,
            "right": null,
            "top": null,
            "visibility": null,
            "width": null
          }
        },
        "3a919fadb8364aba80a0d095d8f75e1d": {
          "model_module": "@jupyter-widgets/controls",
          "model_name": "DescriptionStyleModel",
          "model_module_version": "1.5.0",
          "state": {
            "_model_module": "@jupyter-widgets/controls",
            "_model_module_version": "1.5.0",
            "_model_name": "DescriptionStyleModel",
            "_view_count": null,
            "_view_module": "@jupyter-widgets/base",
            "_view_module_version": "1.2.0",
            "_view_name": "StyleView",
            "description_width": ""
          }
        },
        "a3d5574baab448659444dd5a163429eb": {
          "model_module": "@jupyter-widgets/base",
          "model_name": "LayoutModel",
          "model_module_version": "1.2.0",
          "state": {
            "_model_module": "@jupyter-widgets/base",
            "_model_module_version": "1.2.0",
            "_model_name": "LayoutModel",
            "_view_count": null,
            "_view_module": "@jupyter-widgets/base",
            "_view_module_version": "1.2.0",
            "_view_name": "LayoutView",
            "align_content": null,
            "align_items": null,
            "align_self": null,
            "border": null,
            "bottom": null,
            "display": null,
            "flex": null,
            "flex_flow": null,
            "grid_area": null,
            "grid_auto_columns": null,
            "grid_auto_flow": null,
            "grid_auto_rows": null,
            "grid_column": null,
            "grid_gap": null,
            "grid_row": null,
            "grid_template_areas": null,
            "grid_template_columns": null,
            "grid_template_rows": null,
            "height": null,
            "justify_content": null,
            "justify_items": null,
            "left": null,
            "margin": null,
            "max_height": null,
            "max_width": null,
            "min_height": null,
            "min_width": null,
            "object_fit": null,
            "object_position": null,
            "order": null,
            "overflow": null,
            "overflow_x": null,
            "overflow_y": null,
            "padding": null,
            "right": null,
            "top": null,
            "visibility": null,
            "width": null
          }
        },
        "f936b4b7e538420ba1eca005849e9aed": {
          "model_module": "@jupyter-widgets/controls",
          "model_name": "ProgressStyleModel",
          "model_module_version": "1.5.0",
          "state": {
            "_model_module": "@jupyter-widgets/controls",
            "_model_module_version": "1.5.0",
            "_model_name": "ProgressStyleModel",
            "_view_count": null,
            "_view_module": "@jupyter-widgets/base",
            "_view_module_version": "1.2.0",
            "_view_name": "StyleView",
            "bar_color": null,
            "description_width": ""
          }
        },
        "3f371df6581143e1a4553736e7b6311a": {
          "model_module": "@jupyter-widgets/base",
          "model_name": "LayoutModel",
          "model_module_version": "1.2.0",
          "state": {
            "_model_module": "@jupyter-widgets/base",
            "_model_module_version": "1.2.0",
            "_model_name": "LayoutModel",
            "_view_count": null,
            "_view_module": "@jupyter-widgets/base",
            "_view_module_version": "1.2.0",
            "_view_name": "LayoutView",
            "align_content": null,
            "align_items": null,
            "align_self": null,
            "border": null,
            "bottom": null,
            "display": null,
            "flex": null,
            "flex_flow": null,
            "grid_area": null,
            "grid_auto_columns": null,
            "grid_auto_flow": null,
            "grid_auto_rows": null,
            "grid_column": null,
            "grid_gap": null,
            "grid_row": null,
            "grid_template_areas": null,
            "grid_template_columns": null,
            "grid_template_rows": null,
            "height": null,
            "justify_content": null,
            "justify_items": null,
            "left": null,
            "margin": null,
            "max_height": null,
            "max_width": null,
            "min_height": null,
            "min_width": null,
            "object_fit": null,
            "object_position": null,
            "order": null,
            "overflow": null,
            "overflow_x": null,
            "overflow_y": null,
            "padding": null,
            "right": null,
            "top": null,
            "visibility": null,
            "width": null
          }
        },
        "e6764da635f0458eafa4be94477a01b9": {
          "model_module": "@jupyter-widgets/controls",
          "model_name": "DescriptionStyleModel",
          "model_module_version": "1.5.0",
          "state": {
            "_model_module": "@jupyter-widgets/controls",
            "_model_module_version": "1.5.0",
            "_model_name": "DescriptionStyleModel",
            "_view_count": null,
            "_view_module": "@jupyter-widgets/base",
            "_view_module_version": "1.2.0",
            "_view_name": "StyleView",
            "description_width": ""
          }
        },
        "2c5404af7fb841a497bd57d9f716e0d4": {
          "model_module": "@jupyter-widgets/controls",
          "model_name": "HBoxModel",
          "model_module_version": "1.5.0",
          "state": {
            "_dom_classes": [],
            "_model_module": "@jupyter-widgets/controls",
            "_model_module_version": "1.5.0",
            "_model_name": "HBoxModel",
            "_view_count": null,
            "_view_module": "@jupyter-widgets/controls",
            "_view_module_version": "1.5.0",
            "_view_name": "HBoxView",
            "box_style": "",
            "children": [
              "IPY_MODEL_b29d9e0b38b74f349d74bb1f773c94b5",
              "IPY_MODEL_8602c4b5e79d4e8d8ac5ea1f50c23d4f",
              "IPY_MODEL_62aa96cb6cfd4393aa60a19d0d0f918a"
            ],
            "layout": "IPY_MODEL_0bc4bbbd4a9b4303b2908f26c9cc4e9b"
          }
        },
        "b29d9e0b38b74f349d74bb1f773c94b5": {
          "model_module": "@jupyter-widgets/controls",
          "model_name": "HTMLModel",
          "model_module_version": "1.5.0",
          "state": {
            "_dom_classes": [],
            "_model_module": "@jupyter-widgets/controls",
            "_model_module_version": "1.5.0",
            "_model_name": "HTMLModel",
            "_view_count": null,
            "_view_module": "@jupyter-widgets/controls",
            "_view_module_version": "1.5.0",
            "_view_name": "HTMLView",
            "description": "",
            "description_tooltip": null,
            "layout": "IPY_MODEL_ed7df286cb2a46908e8a3129083120b7",
            "placeholder": "​",
            "style": "IPY_MODEL_61e4ffb525ae46949721943dc7f4252f",
            "value": "Downloading: 100%"
          }
        },
        "8602c4b5e79d4e8d8ac5ea1f50c23d4f": {
          "model_module": "@jupyter-widgets/controls",
          "model_name": "FloatProgressModel",
          "model_module_version": "1.5.0",
          "state": {
            "_dom_classes": [],
            "_model_module": "@jupyter-widgets/controls",
            "_model_module_version": "1.5.0",
            "_model_name": "FloatProgressModel",
            "_view_count": null,
            "_view_module": "@jupyter-widgets/controls",
            "_view_module_version": "1.5.0",
            "_view_name": "ProgressView",
            "bar_style": "success",
            "description": "",
            "description_tooltip": null,
            "layout": "IPY_MODEL_f2c14c148f5b46f3aad346c2d9b3da47",
            "max": 1355863,
            "min": 0,
            "orientation": "horizontal",
            "style": "IPY_MODEL_d48b4f08151a432ea81f16df57091183",
            "value": 1355863
          }
        },
        "62aa96cb6cfd4393aa60a19d0d0f918a": {
          "model_module": "@jupyter-widgets/controls",
          "model_name": "HTMLModel",
          "model_module_version": "1.5.0",
          "state": {
            "_dom_classes": [],
            "_model_module": "@jupyter-widgets/controls",
            "_model_module_version": "1.5.0",
            "_model_name": "HTMLModel",
            "_view_count": null,
            "_view_module": "@jupyter-widgets/controls",
            "_view_module_version": "1.5.0",
            "_view_name": "HTMLView",
            "description": "",
            "description_tooltip": null,
            "layout": "IPY_MODEL_d7934f07bfee4aa5aaa01287acb0d63e",
            "placeholder": "​",
            "style": "IPY_MODEL_a7d79276e32c4409a6c5ee2a6d85a23e",
            "value": " 1.36M/1.36M [00:00&lt;00:00, 31.0MB/s]"
          }
        },
        "0bc4bbbd4a9b4303b2908f26c9cc4e9b": {
          "model_module": "@jupyter-widgets/base",
          "model_name": "LayoutModel",
          "model_module_version": "1.2.0",
          "state": {
            "_model_module": "@jupyter-widgets/base",
            "_model_module_version": "1.2.0",
            "_model_name": "LayoutModel",
            "_view_count": null,
            "_view_module": "@jupyter-widgets/base",
            "_view_module_version": "1.2.0",
            "_view_name": "LayoutView",
            "align_content": null,
            "align_items": null,
            "align_self": null,
            "border": null,
            "bottom": null,
            "display": null,
            "flex": null,
            "flex_flow": null,
            "grid_area": null,
            "grid_auto_columns": null,
            "grid_auto_flow": null,
            "grid_auto_rows": null,
            "grid_column": null,
            "grid_gap": null,
            "grid_row": null,
            "grid_template_areas": null,
            "grid_template_columns": null,
            "grid_template_rows": null,
            "height": null,
            "justify_content": null,
            "justify_items": null,
            "left": null,
            "margin": null,
            "max_height": null,
            "max_width": null,
            "min_height": null,
            "min_width": null,
            "object_fit": null,
            "object_position": null,
            "order": null,
            "overflow": null,
            "overflow_x": null,
            "overflow_y": null,
            "padding": null,
            "right": null,
            "top": null,
            "visibility": null,
            "width": null
          }
        },
        "ed7df286cb2a46908e8a3129083120b7": {
          "model_module": "@jupyter-widgets/base",
          "model_name": "LayoutModel",
          "model_module_version": "1.2.0",
          "state": {
            "_model_module": "@jupyter-widgets/base",
            "_model_module_version": "1.2.0",
            "_model_name": "LayoutModel",
            "_view_count": null,
            "_view_module": "@jupyter-widgets/base",
            "_view_module_version": "1.2.0",
            "_view_name": "LayoutView",
            "align_content": null,
            "align_items": null,
            "align_self": null,
            "border": null,
            "bottom": null,
            "display": null,
            "flex": null,
            "flex_flow": null,
            "grid_area": null,
            "grid_auto_columns": null,
            "grid_auto_flow": null,
            "grid_auto_rows": null,
            "grid_column": null,
            "grid_gap": null,
            "grid_row": null,
            "grid_template_areas": null,
            "grid_template_columns": null,
            "grid_template_rows": null,
            "height": null,
            "justify_content": null,
            "justify_items": null,
            "left": null,
            "margin": null,
            "max_height": null,
            "max_width": null,
            "min_height": null,
            "min_width": null,
            "object_fit": null,
            "object_position": null,
            "order": null,
            "overflow": null,
            "overflow_x": null,
            "overflow_y": null,
            "padding": null,
            "right": null,
            "top": null,
            "visibility": null,
            "width": null
          }
        },
        "61e4ffb525ae46949721943dc7f4252f": {
          "model_module": "@jupyter-widgets/controls",
          "model_name": "DescriptionStyleModel",
          "model_module_version": "1.5.0",
          "state": {
            "_model_module": "@jupyter-widgets/controls",
            "_model_module_version": "1.5.0",
            "_model_name": "DescriptionStyleModel",
            "_view_count": null,
            "_view_module": "@jupyter-widgets/base",
            "_view_module_version": "1.2.0",
            "_view_name": "StyleView",
            "description_width": ""
          }
        },
        "f2c14c148f5b46f3aad346c2d9b3da47": {
          "model_module": "@jupyter-widgets/base",
          "model_name": "LayoutModel",
          "model_module_version": "1.2.0",
          "state": {
            "_model_module": "@jupyter-widgets/base",
            "_model_module_version": "1.2.0",
            "_model_name": "LayoutModel",
            "_view_count": null,
            "_view_module": "@jupyter-widgets/base",
            "_view_module_version": "1.2.0",
            "_view_name": "LayoutView",
            "align_content": null,
            "align_items": null,
            "align_self": null,
            "border": null,
            "bottom": null,
            "display": null,
            "flex": null,
            "flex_flow": null,
            "grid_area": null,
            "grid_auto_columns": null,
            "grid_auto_flow": null,
            "grid_auto_rows": null,
            "grid_column": null,
            "grid_gap": null,
            "grid_row": null,
            "grid_template_areas": null,
            "grid_template_columns": null,
            "grid_template_rows": null,
            "height": null,
            "justify_content": null,
            "justify_items": null,
            "left": null,
            "margin": null,
            "max_height": null,
            "max_width": null,
            "min_height": null,
            "min_width": null,
            "object_fit": null,
            "object_position": null,
            "order": null,
            "overflow": null,
            "overflow_x": null,
            "overflow_y": null,
            "padding": null,
            "right": null,
            "top": null,
            "visibility": null,
            "width": null
          }
        },
        "d48b4f08151a432ea81f16df57091183": {
          "model_module": "@jupyter-widgets/controls",
          "model_name": "ProgressStyleModel",
          "model_module_version": "1.5.0",
          "state": {
            "_model_module": "@jupyter-widgets/controls",
            "_model_module_version": "1.5.0",
            "_model_name": "ProgressStyleModel",
            "_view_count": null,
            "_view_module": "@jupyter-widgets/base",
            "_view_module_version": "1.2.0",
            "_view_name": "StyleView",
            "bar_color": null,
            "description_width": ""
          }
        },
        "d7934f07bfee4aa5aaa01287acb0d63e": {
          "model_module": "@jupyter-widgets/base",
          "model_name": "LayoutModel",
          "model_module_version": "1.2.0",
          "state": {
            "_model_module": "@jupyter-widgets/base",
            "_model_module_version": "1.2.0",
            "_model_name": "LayoutModel",
            "_view_count": null,
            "_view_module": "@jupyter-widgets/base",
            "_view_module_version": "1.2.0",
            "_view_name": "LayoutView",
            "align_content": null,
            "align_items": null,
            "align_self": null,
            "border": null,
            "bottom": null,
            "display": null,
            "flex": null,
            "flex_flow": null,
            "grid_area": null,
            "grid_auto_columns": null,
            "grid_auto_flow": null,
            "grid_auto_rows": null,
            "grid_column": null,
            "grid_gap": null,
            "grid_row": null,
            "grid_template_areas": null,
            "grid_template_columns": null,
            "grid_template_rows": null,
            "height": null,
            "justify_content": null,
            "justify_items": null,
            "left": null,
            "margin": null,
            "max_height": null,
            "max_width": null,
            "min_height": null,
            "min_width": null,
            "object_fit": null,
            "object_position": null,
            "order": null,
            "overflow": null,
            "overflow_x": null,
            "overflow_y": null,
            "padding": null,
            "right": null,
            "top": null,
            "visibility": null,
            "width": null
          }
        },
        "a7d79276e32c4409a6c5ee2a6d85a23e": {
          "model_module": "@jupyter-widgets/controls",
          "model_name": "DescriptionStyleModel",
          "model_module_version": "1.5.0",
          "state": {
            "_model_module": "@jupyter-widgets/controls",
            "_model_module_version": "1.5.0",
            "_model_name": "DescriptionStyleModel",
            "_view_count": null,
            "_view_module": "@jupyter-widgets/base",
            "_view_module_version": "1.2.0",
            "_view_name": "StyleView",
            "description_width": ""
          }
        },
        "c70ad4e5bb824ac1849c2aeb680afbd9": {
          "model_module": "@jupyter-widgets/controls",
          "model_name": "HBoxModel",
          "model_module_version": "1.5.0",
          "state": {
            "_dom_classes": [],
            "_model_module": "@jupyter-widgets/controls",
            "_model_module_version": "1.5.0",
            "_model_name": "HBoxModel",
            "_view_count": null,
            "_view_module": "@jupyter-widgets/controls",
            "_view_module_version": "1.5.0",
            "_view_name": "HBoxView",
            "box_style": "",
            "children": [
              "IPY_MODEL_618ebf53eaee46b3a7e4c0f4f8e59956",
              "IPY_MODEL_a03e8ebdee354a04b3889afcdf1ba0a4",
              "IPY_MODEL_05b7035f40114863a283ffce0555f115"
            ],
            "layout": "IPY_MODEL_fea657cef10d4ab18c40b8c7934fca79"
          }
        },
        "618ebf53eaee46b3a7e4c0f4f8e59956": {
          "model_module": "@jupyter-widgets/controls",
          "model_name": "HTMLModel",
          "model_module_version": "1.5.0",
          "state": {
            "_dom_classes": [],
            "_model_module": "@jupyter-widgets/controls",
            "_model_module_version": "1.5.0",
            "_model_name": "HTMLModel",
            "_view_count": null,
            "_view_module": "@jupyter-widgets/controls",
            "_view_module_version": "1.5.0",
            "_view_name": "HTMLView",
            "description": "",
            "description_tooltip": null,
            "layout": "IPY_MODEL_1d2c8b05c3004e8fb271fae9bfc25f94",
            "placeholder": "​",
            "style": "IPY_MODEL_3bd8006f9d43408a8ddc3b3b315048b9",
            "value": "Downloading: 100%"
          }
        },
        "a03e8ebdee354a04b3889afcdf1ba0a4": {
          "model_module": "@jupyter-widgets/controls",
          "model_name": "FloatProgressModel",
          "model_module_version": "1.5.0",
          "state": {
            "_dom_classes": [],
            "_model_module": "@jupyter-widgets/controls",
            "_model_module_version": "1.5.0",
            "_model_name": "FloatProgressModel",
            "_view_count": null,
            "_view_module": "@jupyter-widgets/controls",
            "_view_module_version": "1.5.0",
            "_view_name": "ProgressView",
            "bar_style": "success",
            "description": "",
            "description_tooltip": null,
            "layout": "IPY_MODEL_670bd0c22c604a00958c3fe2bbab8dc5",
            "max": 1625270765,
            "min": 0,
            "orientation": "horizontal",
            "style": "IPY_MODEL_63d9e9f34b754e068e48692e78814a86",
            "value": 1625270765
          }
        },
        "05b7035f40114863a283ffce0555f115": {
          "model_module": "@jupyter-widgets/controls",
          "model_name": "HTMLModel",
          "model_module_version": "1.5.0",
          "state": {
            "_dom_classes": [],
            "_model_module": "@jupyter-widgets/controls",
            "_model_module_version": "1.5.0",
            "_model_name": "HTMLModel",
            "_view_count": null,
            "_view_module": "@jupyter-widgets/controls",
            "_view_module_version": "1.5.0",
            "_view_name": "HTMLView",
            "description": "",
            "description_tooltip": null,
            "layout": "IPY_MODEL_30a96b04b3cc444b9dc69090d1513ddc",
            "placeholder": "​",
            "style": "IPY_MODEL_fec7e4be434f4303b733b3dee500c866",
            "value": " 1.63G/1.63G [00:40&lt;00:00, 62.8MB/s]"
          }
        },
        "fea657cef10d4ab18c40b8c7934fca79": {
          "model_module": "@jupyter-widgets/base",
          "model_name": "LayoutModel",
          "model_module_version": "1.2.0",
          "state": {
            "_model_module": "@jupyter-widgets/base",
            "_model_module_version": "1.2.0",
            "_model_name": "LayoutModel",
            "_view_count": null,
            "_view_module": "@jupyter-widgets/base",
            "_view_module_version": "1.2.0",
            "_view_name": "LayoutView",
            "align_content": null,
            "align_items": null,
            "align_self": null,
            "border": null,
            "bottom": null,
            "display": null,
            "flex": null,
            "flex_flow": null,
            "grid_area": null,
            "grid_auto_columns": null,
            "grid_auto_flow": null,
            "grid_auto_rows": null,
            "grid_column": null,
            "grid_gap": null,
            "grid_row": null,
            "grid_template_areas": null,
            "grid_template_columns": null,
            "grid_template_rows": null,
            "height": null,
            "justify_content": null,
            "justify_items": null,
            "left": null,
            "margin": null,
            "max_height": null,
            "max_width": null,
            "min_height": null,
            "min_width": null,
            "object_fit": null,
            "object_position": null,
            "order": null,
            "overflow": null,
            "overflow_x": null,
            "overflow_y": null,
            "padding": null,
            "right": null,
            "top": null,
            "visibility": null,
            "width": null
          }
        },
        "1d2c8b05c3004e8fb271fae9bfc25f94": {
          "model_module": "@jupyter-widgets/base",
          "model_name": "LayoutModel",
          "model_module_version": "1.2.0",
          "state": {
            "_model_module": "@jupyter-widgets/base",
            "_model_module_version": "1.2.0",
            "_model_name": "LayoutModel",
            "_view_count": null,
            "_view_module": "@jupyter-widgets/base",
            "_view_module_version": "1.2.0",
            "_view_name": "LayoutView",
            "align_content": null,
            "align_items": null,
            "align_self": null,
            "border": null,
            "bottom": null,
            "display": null,
            "flex": null,
            "flex_flow": null,
            "grid_area": null,
            "grid_auto_columns": null,
            "grid_auto_flow": null,
            "grid_auto_rows": null,
            "grid_column": null,
            "grid_gap": null,
            "grid_row": null,
            "grid_template_areas": null,
            "grid_template_columns": null,
            "grid_template_rows": null,
            "height": null,
            "justify_content": null,
            "justify_items": null,
            "left": null,
            "margin": null,
            "max_height": null,
            "max_width": null,
            "min_height": null,
            "min_width": null,
            "object_fit": null,
            "object_position": null,
            "order": null,
            "overflow": null,
            "overflow_x": null,
            "overflow_y": null,
            "padding": null,
            "right": null,
            "top": null,
            "visibility": null,
            "width": null
          }
        },
        "3bd8006f9d43408a8ddc3b3b315048b9": {
          "model_module": "@jupyter-widgets/controls",
          "model_name": "DescriptionStyleModel",
          "model_module_version": "1.5.0",
          "state": {
            "_model_module": "@jupyter-widgets/controls",
            "_model_module_version": "1.5.0",
            "_model_name": "DescriptionStyleModel",
            "_view_count": null,
            "_view_module": "@jupyter-widgets/base",
            "_view_module_version": "1.2.0",
            "_view_name": "StyleView",
            "description_width": ""
          }
        },
        "670bd0c22c604a00958c3fe2bbab8dc5": {
          "model_module": "@jupyter-widgets/base",
          "model_name": "LayoutModel",
          "model_module_version": "1.2.0",
          "state": {
            "_model_module": "@jupyter-widgets/base",
            "_model_module_version": "1.2.0",
            "_model_name": "LayoutModel",
            "_view_count": null,
            "_view_module": "@jupyter-widgets/base",
            "_view_module_version": "1.2.0",
            "_view_name": "LayoutView",
            "align_content": null,
            "align_items": null,
            "align_self": null,
            "border": null,
            "bottom": null,
            "display": null,
            "flex": null,
            "flex_flow": null,
            "grid_area": null,
            "grid_auto_columns": null,
            "grid_auto_flow": null,
            "grid_auto_rows": null,
            "grid_column": null,
            "grid_gap": null,
            "grid_row": null,
            "grid_template_areas": null,
            "grid_template_columns": null,
            "grid_template_rows": null,
            "height": null,
            "justify_content": null,
            "justify_items": null,
            "left": null,
            "margin": null,
            "max_height": null,
            "max_width": null,
            "min_height": null,
            "min_width": null,
            "object_fit": null,
            "object_position": null,
            "order": null,
            "overflow": null,
            "overflow_x": null,
            "overflow_y": null,
            "padding": null,
            "right": null,
            "top": null,
            "visibility": null,
            "width": null
          }
        },
        "63d9e9f34b754e068e48692e78814a86": {
          "model_module": "@jupyter-widgets/controls",
          "model_name": "ProgressStyleModel",
          "model_module_version": "1.5.0",
          "state": {
            "_model_module": "@jupyter-widgets/controls",
            "_model_module_version": "1.5.0",
            "_model_name": "ProgressStyleModel",
            "_view_count": null,
            "_view_module": "@jupyter-widgets/base",
            "_view_module_version": "1.2.0",
            "_view_name": "StyleView",
            "bar_color": null,
            "description_width": ""
          }
        },
        "30a96b04b3cc444b9dc69090d1513ddc": {
          "model_module": "@jupyter-widgets/base",
          "model_name": "LayoutModel",
          "model_module_version": "1.2.0",
          "state": {
            "_model_module": "@jupyter-widgets/base",
            "_model_module_version": "1.2.0",
            "_model_name": "LayoutModel",
            "_view_count": null,
            "_view_module": "@jupyter-widgets/base",
            "_view_module_version": "1.2.0",
            "_view_name": "LayoutView",
            "align_content": null,
            "align_items": null,
            "align_self": null,
            "border": null,
            "bottom": null,
            "display": null,
            "flex": null,
            "flex_flow": null,
            "grid_area": null,
            "grid_auto_columns": null,
            "grid_auto_flow": null,
            "grid_auto_rows": null,
            "grid_column": null,
            "grid_gap": null,
            "grid_row": null,
            "grid_template_areas": null,
            "grid_template_columns": null,
            "grid_template_rows": null,
            "height": null,
            "justify_content": null,
            "justify_items": null,
            "left": null,
            "margin": null,
            "max_height": null,
            "max_width": null,
            "min_height": null,
            "min_width": null,
            "object_fit": null,
            "object_position": null,
            "order": null,
            "overflow": null,
            "overflow_x": null,
            "overflow_y": null,
            "padding": null,
            "right": null,
            "top": null,
            "visibility": null,
            "width": null
          }
        },
        "fec7e4be434f4303b733b3dee500c866": {
          "model_module": "@jupyter-widgets/controls",
          "model_name": "DescriptionStyleModel",
          "model_module_version": "1.5.0",
          "state": {
            "_model_module": "@jupyter-widgets/controls",
            "_model_module_version": "1.5.0",
            "_model_name": "DescriptionStyleModel",
            "_view_count": null,
            "_view_module": "@jupyter-widgets/base",
            "_view_module_version": "1.2.0",
            "_view_name": "StyleView",
            "description_width": ""
          }
        }
      }
    }
  },
  "cells": [
    {
      "cell_type": "code",
      "source": [
        "!pip install transformers[sentencepiece]"
      ],
      "metadata": {
        "colab": {
          "base_uri": "https://localhost:8080/"
        },
        "id": "zjzw7dyBRCnK",
        "outputId": "82e53802-ee83-4b21-9dbf-641291fe3209"
      },
      "execution_count": 3,
      "outputs": [
        {
          "output_type": "stream",
          "name": "stdout",
          "text": [
            "Looking in indexes: https://pypi.org/simple, https://us-python.pkg.dev/colab-wheels/public/simple/\n",
            "Collecting transformers[sentencepiece]\n",
            "  Downloading transformers-4.25.1-py3-none-any.whl (5.8 MB)\n",
            "\u001b[2K     \u001b[90m━━━━━━━━━━━━━━━━━━━━━━━━━━━━━━━━━━━━━━━━\u001b[0m \u001b[32m5.8/5.8 MB\u001b[0m \u001b[31m92.3 MB/s\u001b[0m eta \u001b[36m0:00:00\u001b[0m\n",
            "\u001b[?25hRequirement already satisfied: requests in /usr/local/lib/python3.8/dist-packages (from transformers[sentencepiece]) (2.25.1)\n",
            "Requirement already satisfied: packaging>=20.0 in /usr/local/lib/python3.8/dist-packages (from transformers[sentencepiece]) (21.3)\n",
            "Requirement already satisfied: numpy>=1.17 in /usr/local/lib/python3.8/dist-packages (from transformers[sentencepiece]) (1.21.6)\n",
            "Requirement already satisfied: pyyaml>=5.1 in /usr/local/lib/python3.8/dist-packages (from transformers[sentencepiece]) (6.0)\n",
            "Collecting tokenizers!=0.11.3,<0.14,>=0.11.1\n",
            "  Downloading tokenizers-0.13.2-cp38-cp38-manylinux_2_17_x86_64.manylinux2014_x86_64.whl (7.6 MB)\n",
            "\u001b[2K     \u001b[90m━━━━━━━━━━━━━━━━━━━━━━━━━━━━━━━━━━━━━━━━\u001b[0m \u001b[32m7.6/7.6 MB\u001b[0m \u001b[31m130.1 MB/s\u001b[0m eta \u001b[36m0:00:00\u001b[0m\n",
            "\u001b[?25hCollecting huggingface-hub<1.0,>=0.10.0\n",
            "  Downloading huggingface_hub-0.11.1-py3-none-any.whl (182 kB)\n",
            "\u001b[2K     \u001b[90m━━━━━━━━━━━━━━━━━━━━━━━━━━━━━━━━━━━━━━\u001b[0m \u001b[32m182.4/182.4 KB\u001b[0m \u001b[31m28.1 MB/s\u001b[0m eta \u001b[36m0:00:00\u001b[0m\n",
            "\u001b[?25hRequirement already satisfied: regex!=2019.12.17 in /usr/local/lib/python3.8/dist-packages (from transformers[sentencepiece]) (2022.6.2)\n",
            "Requirement already satisfied: filelock in /usr/local/lib/python3.8/dist-packages (from transformers[sentencepiece]) (3.8.2)\n",
            "Requirement already satisfied: tqdm>=4.27 in /usr/local/lib/python3.8/dist-packages (from transformers[sentencepiece]) (4.64.1)\n",
            "Collecting sentencepiece!=0.1.92,>=0.1.91\n",
            "  Downloading sentencepiece-0.1.97-cp38-cp38-manylinux_2_17_x86_64.manylinux2014_x86_64.whl (1.3 MB)\n",
            "\u001b[2K     \u001b[90m━━━━━━━━━━━━━━━━━━━━━━━━━━━━━━━━━━━━━━━━\u001b[0m \u001b[32m1.3/1.3 MB\u001b[0m \u001b[31m82.7 MB/s\u001b[0m eta \u001b[36m0:00:00\u001b[0m\n",
            "\u001b[?25hRequirement already satisfied: protobuf<=3.20.2 in /usr/local/lib/python3.8/dist-packages (from transformers[sentencepiece]) (3.19.6)\n",
            "Requirement already satisfied: typing-extensions>=3.7.4.3 in /usr/local/lib/python3.8/dist-packages (from huggingface-hub<1.0,>=0.10.0->transformers[sentencepiece]) (4.4.0)\n",
            "Requirement already satisfied: pyparsing!=3.0.5,>=2.0.2 in /usr/local/lib/python3.8/dist-packages (from packaging>=20.0->transformers[sentencepiece]) (3.0.9)\n",
            "Requirement already satisfied: certifi>=2017.4.17 in /usr/local/lib/python3.8/dist-packages (from requests->transformers[sentencepiece]) (2022.12.7)\n",
            "Requirement already satisfied: chardet<5,>=3.0.2 in /usr/local/lib/python3.8/dist-packages (from requests->transformers[sentencepiece]) (4.0.0)\n",
            "Requirement already satisfied: urllib3<1.27,>=1.21.1 in /usr/local/lib/python3.8/dist-packages (from requests->transformers[sentencepiece]) (1.24.3)\n",
            "Requirement already satisfied: idna<3,>=2.5 in /usr/local/lib/python3.8/dist-packages (from requests->transformers[sentencepiece]) (2.10)\n",
            "Installing collected packages: tokenizers, sentencepiece, huggingface-hub, transformers\n",
            "Successfully installed huggingface-hub-0.11.1 sentencepiece-0.1.97 tokenizers-0.13.2 transformers-4.25.1\n"
          ]
        }
      ]
    },
    {
      "cell_type": "code",
      "source": [
        "file = open(\"/content/Trump.txt\", \"r\")"
      ],
      "metadata": {
        "id": "NInhRCoYRG7z"
      },
      "execution_count": 4,
      "outputs": []
    },
    {
      "cell_type": "code",
      "source": [
        "FileContent= file.read().strip()"
      ],
      "metadata": {
        "id": "PUGbB29gStyg"
      },
      "execution_count": 5,
      "outputs": []
    },
    {
      "cell_type": "code",
      "source": [
        "FileContent\n"
      ],
      "metadata": {
        "colab": {
          "base_uri": "https://localhost:8080/",
          "height": 198
        },
        "id": "VHNLE9NmS0N2",
        "outputId": "8a90654d-d110-40f1-c50c-d30a4ffd452a"
      },
      "execution_count": 6,
      "outputs": [
        {
          "output_type": "execute_result",
          "data": {
            "text/plain": [
              "'Thank you. Thank you. Thank you to Vice President Pence. He\\'s a good guy. We\\'ve done a great job together. And Merry Christmas, Michigan. Thank you, Michigan. What a victory we had in Michigan. What a victory was that. One of the greats. Was that the greatest evening? But I\\'m thrilled to be here with thousands of hardworking patriots as we celebrate the miracle of Christmas, the greatness of America and the glory of God. Thank you very much. And did you notice that everybody is saying Merry Christmas again? Did you notice? Saying Merry Christmas. I remember when I first started this beautiful trip, this beautiful journey, I just said to the First Lady, \"You are so lucky. I took you on this fantastic journey. It\\'s so much fun. They want to impeach you. They want to do worse than that.\" By the way, by the way, by the way, it doesn\\'t really feel like we\\'re being impeached. The country is doing better than ever before. We did nothing wrong. We did nothing wrong. And we have tremendous support in the Republican Party like we\\'ve never had before. Nobody\\'s ever had this kind of support. But this sacred season, our country is thriving and it\\'s thriving truly like it has never, it has never happened before to the extent what\\'s happening now. And by the way, your state, because of us, not because of local government, but because of us, because of the job that we\\'ve done. Because I understand she\\'s not fixing those potholes. That\\'s what the word is. It was all about roads and they want to raise those gasoline taxes on you. We don\\'t want to do that. But she\\'s not fixing the potholes. But Michigan\\'s had the best year it\\'s ever had. Best year it\\'s ever had. And that\\'s because we have auto companies expanding and thriving and they\\'re coming in from Japan and they\\'re coming in from a lot of other places. Look what\\'s happening. And you know, I don\\'t know if you know this, but probably 10 years ago I was honored. I was the Man Of The Year by I think somebody, whoever. I was the Man Of The Year in Michigan. Can you believe it? Long time. And that was long before I ever decided to do this. I was happy. I had a beautiful life. What the hell did I do this for? But look how we\\'re doing. Do we love it? I love it. But anyway, I was the Man Of The Year and probably close to 10 years ago and I came to Michigan. He said, \"You\\'re still the Man Of The Year.\" Thank you. Who said that? Thank you. So I came in and I remember the speech so well. I said, \"Why are you allowing them to steal your car companies? Why are you allowing them to go to Mexico and to go from China where they come in from China, they build them in China, they sell them into our country with no tax and you lose your jobs, you lose your factories, the companies leave and you get nothing. Why are they lying?\" I asked that a long time ago and we stopped it. We\\'ve stopped it. And you see that. And we just made the USMCA. We\\'re getting rid of NAFTA, which I think is the worst trade deal ever. And it\\'s very exciting. It\\'s a great deal. It\\'s a great deal. It\\'s going to stop exactly what we were just talking about. It makes it very, very prohibitive. They can do it, but they\\'ve got to pay a hell of a big price to do it. And history has proven that stops them. But we have a great USMCA that we negotiated with Mexico, with Canada. Now, from the standpoint of the farmers, you know what\\'s going on. We had tremendous trade barriers in Canada. We had attacks on dairy products, 297% tariff, nobody talked about it, with Canada. And we had some really bad things with Mexico. We now have a wonderful deal. And if we didn\\'t have a good deal, you know what I would have done what? What? I would have put tariffs on both countries and that would have been it, right? That would have been it. Unfortunately the deal\\'s been sitting with Nancy Pelosi for a long time and what happened? And she had a lot of pressure, especially from manufacturing areas, farm areas, a lot of pressure to sign it. So here\\'s what happens. So I get along with labor. I had a lot of union labor vote for me, tremendous amount of labor. In New York where I come from, we have a lot of unions. And that\\'s okay. That\\'s fine. So we left a little stuff for the union because we figured to get it signed, we\\'ll give a little bit and we did it and we have one great deal. And now you have the Democrats trying to take credit for this deal and that\\'s okay. Whatever it takes. For seven months, it sits. They don\\'t do anything. We give. And by the way, I spoke to the unions the day before I say, \"Fellows, you got to get it done.\" And union labor loves me and I love you too sir. I love you too sir. So we have a great deal with Mexico, with Canada. And it is true. I say it out loud because I say it to them right now. If they ever wanted to break the deal, that\\'s okay. If somebody wants to break a deal with me, you always have to have an alternative, right? And this country, the deals we made, we did a deal with South Korea. That\\'s great. We did a deal with Japan, 40 billion dollar deal with Japan. It was just a little piece of a deal. Okay? That was a piece of a deal. And I said to Japan, \"Look, you got to make this deal or we\\'re going to put a 20% tariff on the cars. And that\\'s more money than anything we\\'re talking about.\" That\\'s all right. That\\'s all right. That\\'s all right. Get her out. Ger her out of here. Oh well. You\\'re about to hear the greatest speech you\\'ve ever heard. And that\\'s going to be the publicity because all the fake news back there will say massive riotâ€¦ Massive riots. Fake news. But seriously, look, look, look, they won\\'t say it. They won\\'t say it, because when we have protesters all in favor, they don\\'t talk about it, but there\\'s a slob. There\\'s a real slob. Wait, wait a minute. She\\'ll get hell when she gets back home with mom. But she madeâ€¦ Look, she screams a little bit. And you know what I like to do? Avoid them. Because I\\'ll tell you the big problem. I could hardly hear her. What happens is all of you people go crazy. Look, look, look, and the place. Okay, so there\\'s one disgusting person who madeâ€¦ Wait, wait, who made aâ€¦ I wouldn\\'t say this, but made a horrible gesture with the wrong finger right? Now they won\\'t say that, the fake news, they won\\'t say it. If one of us did that, it would be like the biggest story ever. I think it\\'s terrible. And I\\'ll tell you the other thing, I don\\'t know who the security company is, but the police came up, but they want to be so politically correct so they don\\'t grab her wrist lightly and get her out. They say, \"Oh, would you please come? Would you please come with me?\" Sure. \"Ma\\'am, would you?\" And then she gives the guy the finger and he, \"Oh, Oh.\" You got to get a little bit stronger than that, folks. And theyâ€¦ . Making another group of tariffs, seven and a half percent. This gives us a lot of currency to do the phase two deal, which they want to start, but we\\'re taking in billions of dollars and to help the farmers who were targeted, 16 billion and 12 billion the previous year, helps the farmers. So you know what we do, out of that big check that we get, all that money flows into the treasury. Out of the big check, we gave the farmers 16 billion dollars and 12 billion for the previous year. And you know, the incredible thing, and I was with a lot of farmers. I was with a group of 36 farmers at the White House. You know what they said to me? I said, \"Don\\'t worry about it. We\\'re going to take care of you guys.\" And I used a bad word. You know what word I used? We\\'re going to get you a subsidy. And they said this two years ago, I said, \"How much were you targeted for?\" This was the first year. \"12 billion, sir.\" The second year was 16. They were target. That\\'s what they didn\\'t get from China. So I said, \"It\\'s all right, we\\'re going to give you a subsidy of the same and we\\'re going to take it out of the tariffs and we\\'re going to have billions and billions of dollars left over.\" And they said, \"Sir, we don\\'t want money. We just want a level playing field.\" I\\'ve never seen that before. I\\'ve never seen that before. So we will have invested in our military, since I\\'m here, which is less than three years. Our military, by the way, in all due respect to the previous two administrations, our military was depleted. It was depleted. It was in bad shape. We had fighter jets that were 35 years old. We had planes that were 60 yearsâ€¦ You heard where the father flew them, the grandfather flew them, and now the young son comes in. We\\'ve got the best equipment in the world now. Spent two and a half trillion dollars, made in the USA. Two and a half trillion. We will shortly. That\\'ll be all finished. We\\'re going to have the greatestâ€¦ Now we have the best planes. We\\'re going to have the best ships. We\\'re building a lot of ships now. We\\'re building the most powerful weapons in the world. Now, we don\\'t want to even talk about it. We never want to use them. But you know, the way we\\'re not going to have to use them is if we have them. We\\'re building submarines, the power of which nobody\\'s ever seen before. Nobody\\'s ever seen before. It\\'s funny, we have these companies come in. I like to make good deals. You like to make good deals. That\\'s what we do, right? So these really countries that come in, prime ministers, presidents, sometimes dictators, those we can\\'t deal with too much. \"Sir, we\\'d like to buy a nuclear submarine.\" I say, \"No thanks.\" I turn them all down. You have no idea how many peopleâ€¦ But we\\'re building some of theâ€¦ They\\'re the most powerful weapons ever made by man or womankind. I say mankind and womankind. They can definitely fight. They\\'re the real deal. These guys, so good looking. I said, \"You could be a movie star. Go to Hollywood.\" \"No sir. I like doing what I\\'m doing.\" So I said to these guys, you going to see, just like central casting, I said, I said, \"Fellas, how good is this plane?\" They said, \"Sir, it\\'s great.\" \"Why?\" \"Because the enemy can\\'t see it.\" That helps. Stealth. It\\'s actually called super stealth. So I said, \"You mean they can\\'t see, so you shoot at them but they can\\'tâ€¦\" He said, \"They have no idea where we are, sir.\" I said, \"That sounds good to me.\" Nobody does it. Nobody can do it. We have the whole thing and we bought in a lot of those planes, we bought in a lot of great stuff. And I won\\'t tell you the story, but very early on I thought we were going to have a problem someplace, and one of the generals came up to me and said, \"Sir, don\\'t go. Don\\'t do it.\" \"Why?\" \"We don\\'t have the ammunition.\" And I said two things. I never want to hear a President. Right? We never want to have a President hear that again, nor do we want a President to have to go through the crap that we were going through back then. But, another thing we did, which to me is such an incredible thing to have done. It\\'s such an honor. So our last US Armed Forces, the last branch was the Air Force, right? That was many, many decades ago. We are now building and we have now gotten funding for the sixth branch of the United States Armed Forces, The Space Force. So I\\'ll be able to tell my kids someday and everybody else, \"See that Space Force? That was my baby.\" And you think that was easy? That\\'s not easy. Because you have Democrats that do not like our military. They do not like our military. And we did something yesterday, because for three years I would see people that runâ€¦ Incredible people, the heads of the Historically Black Colleges and Universities in the country. And every year they\\'d come in and they\\'d be looking for help. They needed help and they do need help with it and it\\'s great and they do an incredible job. So many great schools, but they need help. And every year they\\'d have to come and come. I got to know them actually. I said, \"The only bad thing is you won\\'t see me too much anymore.\" Because we just provided record funding for a nation\\'s Historically Black Colleges and Universities. And it\\'s longterm, they\\'re not going to have to come. So I said, \"Look, we could do it where we do it every year or we\\'ll do what we have. What do you want?\" They said, \"Let us just have it.\" So we\\'ll miss them. But they are great people. They\\'ve done an incredible job. And our extraordinary jobs boom, which created another 266,000 jobs last month, and then you add the undercount from the previous two months, you\\'re close to 300,000 jobs. And they said, if you\\'re a business watcher which I am, I love watching business, but they said they were guessing, could be 70,000, could be 80,000, maybe 90, maybe 110, somebody said. Then the number comes out, 266,000 with an adjustment. Remember about four months ago when we had one little period, right? We had one little period where there was a little downturn. They said, \"Oh, Oh, we think we\\'re going into a recession.\" I said, \"Don\\'t worry about it.\" \"We think we\\'re going into a recession.\" They were willing to lose their wealth. They were willing for this stocks and whatever the hell they own, what do you guys own back there? Let it go. They\\'ll go bust. They don\\'t care. Anything to get rid of us. Not me, us. And you know what? Then all of a sudden, and now for the last couple of weeks, we\\'ve set brand new records in the history of the various stock markets. So, as of yesterday, we\\'ve had 133 record days in the stock market now, and that\\'s in less than three years. So when I see that I don\\'t care because I don\\'tâ€¦ I\\'m not allowed to have stock. I can\\'t have stock. They consider it a conflict of interest and that I can understand. I agree. I can. But you know what? I\\'ll tell you what. What I see, I see tremendous job growth because we\\'re setting records. But you know what I also see? The 401ks where people are up 90%, they\\'re up 97%, they\\'re up 82%. I tell you the story all the time. I mean, I have people coming up to me, and a man came up, a policeman. I\\'ve told this story, but I\\'ve had many, so many times, but this guy in particular, because it was early and that was a year ago. That was a long time ago. Right now it\\'s much higher than that. But he said, \"Sir, I want to thank you. My wife thinks I\\'m a loser. All my life, we never did well with the 401ks, with stocks. Everything I invested, I\\'m up 72%, sir. She thinks I\\'m a financial genius. She\\'s so in love with me. She so in love.\" He said, \"She said, â€˜Darling, I think you\\'re one of the greatest investors. Why don\\'t you do this professionally?\\' And I don\\'t even know what I\\'m doing, sir. I just have all these stocks.\" So I just wanted to tell you, I look at a 401k, who has 401ks here? So that\\'s what I see. I don\\'t care about the rich ones. I care about everybody. I care. I care about everybody actually. Ford motor company just announced that it is investing 1.5 billion dollars into auto factories in the Detroit area, creating another 3000 Michigan jobs. And that\\'s on top of the many other investments we\\'ve gotten from Japanese companies, car companies, and other companies. But they\\'re all coming in and a lot of them are coming to Michigan. And I say, \"Hey, go to Michigan.\" Sometimes they\\'ll go south and that\\'s okay, whatever. I want them in this country. But ideally I want to fill them up. We\\'re doing so well in Michigan with the auto companies. Now you\\'re back. You\\'re back. So, you\\'re back. Very proud of you. Very proud of you. But while we\\'re creating jobs, fighting for Michigan workers, and achieving numbers that you\\'ve never seen before, incredible victories for the American people are happening. The radical left in Congress is consumed with hatred and envy and rage. You see what\\'s going on? I\\'ll tell you, these people are crazy. You ever hear, \"It\\'s the economy, stupid.\" You know that was Clinton\\'s saying. If you have a good economy. I have the greatest economy in the history of this country and nobody talks about it. Nobody talks about it. If you\\'re a Democrat, they say, \" Oh, it\\'s the economyâ€¦\" If the economy\\'s any good. And let me just tell you a little secret. If crooked Hillary would\\'ve won, your economy would have crashed. You were going down. The regulations were taking it down. The taxes were taking it down, instead of being up 92% or whatever you\\'re up, a lot, you would have been down, you would have been at less than half. It was crashing. For all those people that would say, \"Oh, it\\'s the Obamaâ€¦\" Let me tell you something. You were dying. And if you look at that first period of a couple of months, it was a disaster, but it was heading south. And as sure as you\\'re standing, and I\\'m sorry we couldn\\'t get you seats, we didn\\'t have any room. And by the way, 20,000 people outside had to leave. You know? It\\'s so cold outside we told them, \"Don\\'t worry about a screen, go home, go home and watch.\" But we had, this is about a 5,500 seat arena. And I said to my people, \"Why so small?\" Are we spoiled? I watch these guys come in like Biden, he has a big rally and they get 93 people show up. No, it\\'s true. I don\\'t understand it. And did you see the new polls from USA Today came out? I\\'m killing everybody. And they hate me. USA Today hates me. But there\\'s a poll, we\\'re beating everybody. But, so Biden has this rally, they\\'ve got 200 seats, but only a small number of people. So you know what they do? They set up a round table. So think of these people. They come in, they think they\\'re going to listen to the speech, they end up sitting on a round table discussingâ€¦ They must\\'ve been happy, right? We don\\'t have enough room for round tables. I\\'m sorry folks. No, they set up a round table but I think we\\'re doing great. And how do you beat what we\\'ve done? With the economy, with our great vets, with choice. You\\'ve finally got choice. They\\'ve been trying to get it for almost 50 years. Four more years. Four more years. Four more years. Four more years. Four more years. Four more years. And these people back here? Your seat or stand is better. Right? But you know what? They\\'re going to be much more famous because the cameras can\\'t see you. They can only see them. And the other thing, the cameras, do you ever notice, I go to these stadiums, 25, 30,000 people. They never show the crowd. You know why? Because they don\\'t want to haveâ€¦ If crazy Pocahontas, if crazy Pocahontas goes to the middle of Central Park or whatever. She\\'s in Manhattan. You got me. And people, I mean, I could have, I could have Baron Trump go into Central Park and he\\'d get a crowd that would be just asâ€¦ He\\'s 13. He\\'d get a bigger crowd. But if she has the crowd, \"Oh, these crowds are so big.\" I\\'ve had crowds over the last couple of weeks. We went to different Pennsylvania, Florida. But I mean thousands and thousands of people can\\'t get into these NBA arenas, right? Big arenas. And we set records at everyone because we use the floor. Thank you. I appreciate it. But we use the floor, right? The basketball court. So we set records at every arena. They never even mention the crowds. They never mention the crowds. It\\'s sort of amazing. You know what? I don\\'t think we\\'ve ever had an empty seat from the time I came down the escalator. That\\'s a long time ago. I don\\'t think we\\'ve ever had an empty seat. Now what the crooked media does though, if you got like over here, look how packed it is and there\\'s thousands outside, but Iâ€¦ \"Please go home. You\\'re going to catch pneumonia.\" But here\\'s the thing. If this man and that beautiful woman happened to get up because they want to go to the bathroom, those cameras will turn to those two seats and they\\'ll say \"Trump wasn\\'t able to fill up the arena.\" I always get nervous when I see someâ€¦ I know they\\'re coming back. Nobody ever leaves our speeches. Because is there a better place to be in the world than a Trump rally? But every time I see a man get up, I see a beautiful woman with a baby and they\\'re getting up. The baby\\'s going crazy and they\\'re getting up. They\\'re going to take itâ€¦ But I know they\\'re going to be right back. And I say, \"Fill those two seats. I don\\'t want them to see it.\" Because they\\'ll say, \"Couldn\\'t fill up the arena.\" These are truly dishonest people. After three years of sinister witch hunts, hoaxes, scams, tonight the House Democrats are trying to nullify the ballots of tens of millions of patriotic Americans. Capped off with one of the greatest election evenings in history. Was that the greatest? Remember when they all said, remember when they all said, \"No, no. You can\\'t win Michigan. You can\\'t.\" Then I went, I did one in Grand Rapids, right? Grand Rapids. We had 32,000 people that night. It was one o\\'clock in the morning. That means it was Election Day when I started speaking. Hillary, Barack Obama, Michelle Obama, and Bill Clinton, they did an emergency trip. They did an emergency trip to Michigan at six o\\'clock. They got here at prime time. They started to speak. She had 500 people. I got here at one o\\'clock in the morning the next day, which is now Election Day. How many people were there? 32,000 people outside, inside. It was the last speech of Michigan. And they say, \"Well, sir, it\\'s very hard to win Michigan.\" I said, \"Why would it be hard?\" Here\\'s the beautiful thing. Everything I told you I\\'ve done, but much more so. I said I was going to bring car companies back. I said I was going to bring inâ€¦ I just hope you people know that. I just hope you know it. But I\\'ll never forget that night. And in all fairness to Bill Clinton, he used to be a friend of mine until I ran for office. I like him, I like him. But he told, you know the way they tried to shut him out, right? Because he\\'s a pro. He\\'s an instinct guy, right? He\\'s instinct. He doesn\\'t needâ€¦ Right? Because he\\'s a pro. He\\'s an instinct guy, right? He\\'s instinct. He doesn\\'t need polling companies. Who the hell wants him? You know, if you want a polling company, pick up the newspaper. The problem is the newspaper polls are more fake than the news they write. They write fake polls. It\\'s true, they write fake polls. You call them suppression polls. You read them and you get depressed, because it looks like you\\'re doing badly. They do that. I think it\\'s almost worse than what they write, and you can\\'t get much worse than what they write. So what happens is Bill Clinton said to Crooked Hillary, his very dishonest wife, Crooked Hillary. Do you think he calls her Crooked Hillary? He might. Maybe he just calls her crooked? He said, \"Crooked, I\\'m telling you. Crooked, I don\\'t like what I\\'m seeing in Michigan. I don\\'t like what I\\'m seeing in Wisconsin.\" He said, \"I took the trip to Wisconsin and I\\'ll tell you what, they had those Trump/Pence signs all the way to the convention area, every lawn, every loan. I don\\'t like Wisconsin.\" And then he said, \"Oh, don\\'t worry about it.\" What the hell does he know? They told him, \"What do you know?\" Remember, they shut him out at the â€¦ They didn\\'t want him talking. He was right. I mean, I don\\'t want to cause any problems in the family, but he was right. But he talked about Wisconsin. Then he talked about Michigan. He said, \"Crooked, I\\'m telling you, Crooked, I don\\'t like what I\\'m seeing in Michigan. I was in Michigan and I\\'m telling you, they had those damn signs. I saw some houses where they had four of them on one lawn, and two of them on the car.\" And he said, \"You horrible human being. You\\'d better start listening to me, because you\\'re going to get your ass whooped? And you know what happened? You know what happened? She didn\\'t listen, fortunately. And she didn\\'t come to Michigan enough. And she didn\\'t come to Wisconsin, I think at all, right? Because her polling data looked good. It looked good to me, too. Every time I went there with these crowds. So we won Wisconsin. We won Michigan and the great Ronna McDaniel â€¦ where is Ronna? Where is Ronna? Ronna, she was so horrible. I didn\\'t know her, Ronna McDaniel, and she was so aggressive. She kept calling and said, \"Could you please come out to Michigan?\" I said, \"Who the hell are you?\" And I said, \"What do you mean, another trip?\" So anyway, I made, we had these big crowds. I made it again. Then finally I said, two weeks out, I said, \"Ronna, no more. We\\'re going to win it or we\\'re not.\" \"Okay.\" 00 in the evening for this final deal in Grand Rapids. \"Sir, could you come to Michigan tonight?\" And I thought, I was just about finished. I went to a last great state, and I said, \"It\\'s over.\" Now I sit back and I watch, and let\\'s see what happens, right? But she said, \"Could you come to Michigan?\" I said, that is the most aggressive human being I\\'ve ever met. And we did it. And we won Michigan. And the word is that we\\'re much higher right now in the polls than we were ever in 2016 in Michigan. You better remember when you walk into â€¦ you know, it\\'s November 3rd this time, November 3rd. By the way though, that evening, that incredible evening in November, one of the biggest nights in the history of television. You never hear them say it, so I might as well. That election â€¦ and my debates â€¦ you see their debates are dying. Who wants to watch Buttigieg, Buttigieg? Buttigieg! You know that you pronounce it they say â€¦ I heard some guy saying, \"No, no, because it\\'s an unpronounceable name.\" That\\'s why they call him Mayor Pete, right? Mayor Pete. Mayor Pete. Mayor Pete! I\\'ve had you up to here, Mayor Pete. No, Buttigieg is leading. How does â€¦ no, you say it this way. You say it â€¦ they call him Mayor Pete, because nobody can pronounce his last name. That\\'s the only â€¦ people think it says â€¦ by the way, you know what? I\\'m not going to say bad things about him. You know why? I\\'d love him to win. I thought I knocked off Pocahontas. I did it a year too early, a year too early. I give her credit, she then started to come back. I don\\'t think she\\'s going to make it though. She\\'s gasping. She\\'s gasping for air. But I saw them pronouncing Buttigieg, and they said, \"Here\\'s what you do, boot edge edge.\" Say, \"Edge, like the edge of a building. Edge edge,\" Buttigieg. Alfred E. Newman. You got to be older to know what that means. But congressional Democrats are directly attacking 2.3 million Michigan voters who rose up in 2016, won the state, and now the Democrats are very upset. They want to get Michigan back. They just don\\'t know how to do it, because they didn\\'t do a thing for Michigan. They didn\\'t do anything for Michigan. All they did was take away your companies and let them go to Mexico and other places. You know, I don\\'t know if you know it, Mexico has 32% of your car business. You know that, right? Not because of me. They\\'re not moving. But Mexico has â€¦ 32% of our car business moved to Mexico. Can you believe this? Before I got there, but that\\'s what I used to talk about. I said, when I was honored that night, I said, \"How do you let this happen? How do you let all these companies leave?\" It used to go, â€¦ it\\'s probably maybe the single biggest reason I ran for president. It might be the â€¦ and I had a lot of them. Immigration, I had a lot of them, but that may be the single biggest. With today\\'s illegal unconstitutional and partisan impeachment, the do nothing Democrats, and they are do nothing â€¦ all they want to do is focus on this, what they could be doing â€¦ are declaring their deep hatred and disdain for the American voter. This lawless, partisan impeachment is a political suicide march for the Democrat Party. Have you seen my polls in the last four weeks? It\\'s crazy. It\\'s crazy. You know why? Because people, we have an election right down the road. I announced three months ago that I\\'m running, right? I\\'ll give you a little clue. I announced because I figured once I announce, they\\'d never impeach, nobody would be so stupid. But they\\'d been trying to impeach me from day one. They\\'ve been trying to impeach me from before I ran, okay? Because if you remember when I ran, I went immediately to number one, never came off number one. We had center stage from day one in the debates. So we had, I don\\'t know, 14, 15 debates. We had a total of 18, actually. People forgot there was one that they never talk about it, but that\\'s okay. But we had 18 people, and I was center stage. And I said, \"Wait a minute, this is no good.\" I want odd numbers, because of your center stage, if you have a 10 that means two people are in the middle. So I said, \"Make it 11 or make it nine, or I\\'m not showing up.\" And generally they did it, because we were way ahead from the beginning. But I made a lot of great friends out of that group, and many of them are good friends today. Although you wouldn\\'t know it based on the â€¦ they say that was the meanest â€¦ that was a pretty mean primary, you got to say. Wasn\\'t that fun? I liked it. Through their depraved actions today, Crazy Nancy Pelosi\\'s House Democrats have branded themselves with an eternal mark of shame, and it really is. It\\'s a disgrace. Democrat lawmakers do not believe you have the right to select your own president. They think that the Washington swamp, which we believe it or not, it ain\\'t easy, because they got so much stacked, including these guys. You know what? These guys are apart of the Democrat Party. They are a part of it. You might as well call them Democrats. You know, it\\'s owned by Commicast. They\\'re just as bad as CNN, or they\\'re just as bad as MSNBC. And by the way, CNN and MSNBC, their ratings are down the tubes. It\\'s great. I love it. I love it. But they think the Washington swamp should be able to veto the results of an election. That\\'s what they think. There\\'s never been a time like this. Think of it, you have the greatest economy in the history of the world. Other countries come to see me, all of their leaders, and they say, \"Sir, \" first thing, \"Sir, congratulations on your economy. We\\'re trying to do the same thing. Congratulations, sir.\" And these guys don\\'t like talking about it. And if they do, they say, \"Obama did it. Oh, Obama, Obama.\" Remember Obama said, \"You will never be president. He will never be president?\" Then remember he said, \"I will consider it a personal front if you allow him to be president?\" And then I became president. He wasn\\'t so happy. And in all fairness, he campaigned harder than Crooked Hillary, because he had more strength. I mean, I go to these places, Secret Service, they take me. I haven\\'t seen a lobby in three years. It\\'s true. I go through basements. I pass compactor plants. I know more about compactors from this job. I don\\'t see lobbies. I say \"Fellows, you think you could ever maybe take me through a lobby?\" \"No, sir.\" But I\\'ll tell you what. I go upstairs, downstairs, all around. They\\'re taking me up three flights, go down one. I said, \"Are we almost there?\" \"Yes, sir, another four flights.\" And I say, \"You think Hillary could do this? I don\\'t think so.\" They\\'d bring her back home. She wants to go to sleep. And now I hear she wants to run again. Wouldn\\'t that be great? Oh. Thank you. Thank you. Oh would we love that? You think the Democrats are screwed up? Wait until that happens. Wouldn\\'t that be â€¦ Oh, there\\'s my guy. Lock her up. Lock her up. Lock her up. Well look, based on the FBI report, you just saw what happened with the IG, where they came out with the FBI. Based on that, you know what? I never stopped you. But now, think of what they did. Think of what they did. Think of how dishonest it all was. They shouldn\\'t even be allowed to have an impeachment, because it was based on dishonesty. It was based on illegality. She went out, and they paid for a fake dossier. They gave money to foreigners to write a fake dossier, totally disproven, totally fake. The FBI then took that fake dossier and they used it in the FISA Court to get approval to spy on my campaign. And if we were Democrats, they would\\'ve been in jail two years ago. It\\'s a disgrace. Think of what they did. So they use this fake dossier, and they brought it before this big deal court. It\\'s a big deal, the FISA Court. And they said this stuff, and they lied about it, because Comey, who\\'s another beauty â€¦ did I do a great job when I fired his ass? What a great job. Oh no, they had bad plans. No, I did a great thing. That was like throwing a rock at a hornet\\'s nest. Did that place explode? And then we learned about Lisa Page, and her wonderful lover, Peter Strzok. I love you Lisa. I love you more than anybody in the world. I love you more than anybody in the world. It causes problems with the wife, but we won\\'t talk about that. Those tapes didn\\'t work well. No, how about those statements, right? And then they say, \"In all fairness,\" â€¦ I really liked the report, but how does the Inspector General say â€¦ because don\\'t forget, he was appointed by Obama. So I\\'m not knocking him because he gave us a lot of nuggets, but we had a lot of those nuggets. How does the Inspector General say, \"You have these horrible â€¦ he\\'s going to lose. Isn\\'t he? He\\'s going to lose, or she\\'s going to win 100 million.\" Did you see all the zeros? It was like â€¦ I\\'m blinking. I says, \"I think it\\'s 100.\" \"He\\'s going to lose 100 to one. Isn\\'t he Peter? I love you so much, Peter. I\\'ve never loved anyone like you. He\\'s going to lose 100 million to one, Peter, right?\" \"That\\'s right. He\\'s going to lose 100 million to one.\" But there\\'s no bias. How about the insurance policy? To me, the greatest. Just in case she loses, we have an insurance policy! We\\'re in the insurance policy right now folks! We\\'ve been in it for three years, that\\'s what they meant. I mean the insurance policy is on an artificial respirator, because we\\'re doing awfully well. And I\\'ll tell you something, Rush Limbaugh said it. Sean Hannity said it. Laura Ingram said it. Tucker said it. Ainsley said it, but a lot of people have said it. They said, \"There\\'s nobody in the world that could have handled that stuff that happened, and still created one of the greatest economies, and done more than any other president ever before in the first three years.\" I understand that. I understand that, but it\\'s my life, very unfair to my family. I have to say this very, very unfair to my family. What they put my family through is a disgrace. Me, it\\'s my life. It\\'s fine. I do. But you know what? What they put my family through is a disgrace, and they ought to be ashamed, and we should get apologies all over the place. So yesterday I sent Pelosi a letter denouncing and condemning her party\\'s outrageous abusive power. That\\'s what it is. They have nothing. They\\'re the ones that should be impeached, every one of them. I mean you got this guy, Schiff. He makes up a statement, and he goes in front of Congress where he has immunity, and he makes up a statement from me that\\'s totally fictitious, totally out of thin air. The worst statement I\\'ve ever heard. Many people saw it. I had a person two weeks ago that said, \"I didn\\'t love the statement you made. I said, \"Really? Didn\\'t you read the transcripts?\" I always say, \"Read the transcript. But didn\\'t you read it\" \"No, no. I heard it on television. I watched Adam Schiff.\" He made it up. I then sent him the transcript. He said, \"Oh, now I feel better. That\\'s perfect.\" I call it perfect. He called it perfect. Everyone calls it, if you read it. But here\\'s the thing. He makes up this statement, and it finished. Didn\\'t he have eight quid pro quos? Eight. Could you imagine, you\\'re dealing with a country, and you say eight times that you\\'ve got to do something. The first time they say, \"Well.\" The second time they say, \"That\\'s strange.\" Third time they say, \"What\\'s wrong?\" You said eight times? Eight times. They\\'d have you arrested. They\\'d have you put into an insane asylum. But he actually said â€¦ I think he said eight, not seven, eight. And then he finished with, \"Don\\'t call me, I\\'ll call you.\" Can you imagine? The President of the United States, \"Don\\'t call me, I\\'ll call you.\" You know what that is? That\\'s a mafia statement, okay? That\\'s the head of the mafia saying, \"Don\\'t call me.\" This guy actually said that, and then he walked away and people became incensed, because they knew that wasn\\'t the people that read the thing. Most people believed him. He\\'s a liar! Because you know, he\\'s a corrupt politician, 100%. No, he\\'s a corrupt â€¦ and then I see him. By the way, you ever see this guy? He walks up to the mics. I mean, we\\'re not â€¦ all fairness, look, I don\\'t want to be â€¦ because with Me Too, I never even think about looks anymore, okay? I don\\'t talk about looks of a male or a female, but in his case, let\\'s just say â€¦ the last time I\\'ll ever refer to this. He\\'s not exactly the best looking guy we\\'ve ever seen. No, any mic. He walks up to the mic, and he\\'s so just, \"This is a sad, sad day for America. Our president is an employee of Russia. I have absolute proof that the president,\" this is at the beginning, and every week they\\'d say, \"Where\\'s the proof?\" \"It\\'s coming. It\\'s coming.\" Then we get the Mueller report, nothing. And I\\'ll tell you what, I know some of the people in this audience. If I spent not $45 million, not 18 Trump haters, I call them the angry Democrats. It was 13, then it went to 18, and then Mueller. Did Muller do a good job? Did he do a good job? No! Boo! How was his performance in front of Congress? Boo! Not the best, but think of this, $45 million they spent. And you know, I heard somebody say, \"Well, we got back some of that money.\" Let me tell you, you cost this country billions, and billions, and billions of dollars in all of the things that didn\\'t get done, in all of the embarrassment to our country. You caused billions and billions of dollars, and it was a hoax. But this guy, Schiff, \"I have absolute proof. I have this. I have that, this, that.\" Anytime he sees a camera and he\\'s stone faced, stone faced. He\\'s a pathological liar. He gets up, and I\\'ve never seen anything like it. Even I was saying, \"I wonder what he has. What does he have?\" He says, \"I have absolute,\" I said, \"I haven\\'t spoken to Russia in year. What the hell do I have to do with Russia?\" But this guy gets up â€¦ oh, I think we have a vote coming in. Haleigh! Wow! Thank you, Haleigh, great job. Wow. The Republican party has never been so affronted, but they\\'ve never been so united as they are right now, ever, never. And I know the senators, and they\\'re great guys, and women too. We have some great women. We have great guys. They\\'re great people. They love this country. They\\'re going to do the right thing. They\\'re going to do the right thing. So I said in my letter to Pelosi â€¦ I love that. You know, usually there\\'s one, two. The Republicans, look, I\\'ve said it for a long time. The Democrats are lousy politicians, they really are. They\\'ve got horrible policies, open borders, crime is fine, drugs pouring through. I mean, think of what they do. Sanctuary cities, they love sanctuary cities. They\\'re lousy politicians, but they have one thing â€¦ two things. They are vicious. They\\'re the most vicious people. The Republicans aren\\'t as vicious. They may learn to be vicious after going through this, though. But the other thing, the Democrats always stick together. Now think of it, three Democrats went over to our side, no Republicans. It\\'s unheard of. And by the way, this is for a hundred years. I\\'m not just talking about this little point in time. The Republicans are known as, it\\'s always harder to stick together. These people are great. We have a great Republican Party, and we have to get that change. We have to take back the house. You\\'ll have the greatest healthcare ever if we take â€¦ and by the way, we had another victory. The individual mandate, just a little while ago, it came over the wires, it was just upheld. The individual mandate is now gone. The most unpopular part of Obamacare. It was just upheld. So I said in my letter to Pelosi, \"By proceeding with your invalid impeachment, you\\'re violating your oath of office. You\\'re breaking your allegiance to the Constitution. You\\'re declaring open war on American democracy. You dare to invoke the founding fathers in pursuit of this election nullification scheme, yet your spiteful actions display unfettered contempt for America\\'s founding, and your egregious conduct.\" And listen though, it\\'s so true, it threatens to destroy what our founders pledged, and in fact their very lives to build. \"You are the ones interfering in America\\'s elections. You are the one subverting America\\'s democracy. We did nothing wrong, nothing whatsoever. This was just an excuse. You are the ones that are obstructing justice. You are the ones bringing pain and suffering to our republic for your own selfish, personal, political and partisan gain.\" They\\'re bringing pain. The work we could be doing on lowering drug prices, on getting rid of these horrible, horrible situations. You know in the border â€¦ the woman is okay? Is she okay? Okay, thank you very much. Thank you. I mean, some of these people are waiting here for three days, right? Thank you. They\\'ll come back. Come back. Merry Christmas! Thank you. Merry Christmas is true. But what they\\'ve done with this perversion, it\\'s perversion. And when you watch some of these people get up and speak today, they don\\'t even â€¦ \"You have violated the Constitution.\" \"Well, what does he done wrong?\" \"Well, we don\\'t know that.\" They don\\'t even have any crime. This is the first impeachment where there\\'s no crime. I say, \"Tell me what I did, please.\" \"Well, we don\\'t know. You violated the Constitution.\" You had Turley, who\\'s smart, Alan Dershowitz, these guys. All of them, they said, \"There\\'s no crime. There\\'s no crime,\" right? There\\'s no crime! There\\'s no crime! I\\'m the first person that ever get impeached, and there\\'s no crime. I feel guilty. You know what they call it? Impeachment light. It\\'s impeachment light. That\\'s why, with Richard Nixon, I just see it as a very dark era, very dark, very â€¦ oh, you don\\'t even like to think. I don\\'t know about you, but I\\'m having a good time, it\\'s crazy. But I also know we have a great group of people behind us in the Republican Party, we really do. Maybe I wouldn\\'t feel the same way, but we have a great group of people behind us. We had in the House, and we have it in the Senate. They\\'re doing a great job, so I\\'m not worried. I\\'m not worried, because it\\'s always good when you don\\'t do anything wrong, you get impeached. That may be a record that will last forever. But you know what they have done? They\\'ve cheapened the impeachment process. And now anybody that become â€¦ this is a sacred position. Anybody that becomes president, I mean, they could have a phone call and they get impeached. So if the Republicans â€¦ if you had a Democrat as president, we have a Republican house, they don\\'t like the guy for whatever reason, or the woman, they impeach the person. It\\'s cheapened it. It\\'s exactly what our founding fathers didn\\'t want, and they said it could happen, and it\\'s happened. But I know one thing, Americans will show up by the tens of millions next year to vote Pelosi the hell out of office. But it\\'s so disappointing. I see a woman, Carolyn Maloney. She\\'s a long time, nothing much, believe me. She\\'s a Congresswoman from Manhattan, the east side. I was with her. Her first race, I helped her. She was always so nice, \"Oh, thank you, thank you.\" I made lots of contributions over the years. In New York, if you\\'re not a â€¦ it\\'s purely Democrat, especially in Manhattan. So what happens? I make lots of contributions for years, and years, and years. I go run. The first person I see, Carolyn Maloney. I raise my hand to impeach. Well, give me back the damn money that I\\'ve been paying her for so many years. Let her pay me back all the money. Let her pay me back all the money. Then you have this Dingell. Dingell, you know Dingell, from Michigan. You know Dingell? You ever hear of her, Michigan? Debbie Dingell, that\\'s a real beauty. So she calls me up like eight months ago. Her husband was here a long time, but I didn\\'t give him the B treatment. I didn\\'t give him the C or the D. I could\\'ve. Nobody what is, you know? I gave the A+ treatment. \"Take down the flags.\" \"While you\\'re taking them down for ex-Congressman Dingell â€¦\" \"Oh, okay?\" \" â€¦ do this, do that, do that, rotunda everything.\" I gave him everything. That\\'s okay. I don\\'t want anything for it. I don\\'t need anything for anything. She calls me up. \"It\\'s the nicest thing that\\'s ever happened. Thank you so much. John would be so thrilled. He\\'s looking down. He\\'d be so thrilled. Thank you so much, sir.\" I said, \"That\\'s okay, don\\'t worry about it.\" Maybe he\\'s looking up? I don\\'t know. I don\\'t know. Maybe, maybe. But let\\'s assume he\\'s looking down. But I gave him A+, not A, not B+, not B. I gave him the A+, and she called me. She said, \"Oh, no.\" I won\\'t go into the conversation, because it\\'s not fair do that. But all I want to say is, let\\'s put it this way, it was the most profuse thank you that you could ever get on a scale of zero to 10, it was a 10. Okay, so that was what? February or something. Now they talk about this phony impeachment, and she\\'s out there, \"Well, we have to look seriously at our president, because he may have violated the Constitution of the United States.\" Boo! \"And I can\\'t be happy with that, because I love our country. I love this, and I love that.\" She loves everything. I said, \"She\\'s a no,\" okay? No, but I look at her, and she\\'s so sincere, and what happens? \"I vote to impeach Trump.\" And you know what? I didn\\'t say, \"Who the hell knew this was even going to come up?\" I went through the whole Muller hoax. They did this big report. I was totally exonerated. They didn\\'t even bring it up at the impeachment, because I was totally exonerated. If they saw one little kernel, one little quarter of a sentence â€¦ look what they did with one word. Remember this, what did I do? Why did I do? It\\'s us. But they don\\'t say it that way. They say, \"I.\" They read it totally different, schiff and his band of thieves, they read it. Now I say basically, very simple, do us a favor, our country. Do us! Do us! Not me! Our country! And then what do I say? I say, \"The United States Attorney General, Attorney General of the United States could speak to you, it would be great,\" okay? Because it\\'s known for major corruption. In fact, the new leader of Ukraine got in on a construction â€¦ on a platform where he looks for all of the problems of dishonesty, and everything that was going on in Ukraine, right? He looked for it, that\\'s how he got into office. He got into office that way. So we take it and they repeat it a thousand times, and they never say with the right â€¦ so I go wild, and we start. And the Republicans have got it right. Now we always correct him, but I use the word us. Us is the United States, our country. And then it actually says, I think, \"Comma, country,\" but they don\\'t say that. They say, \"Do me a favor.\" How many times have you heard it? Where they say in a speech? \"And then the president said, do me a favor.\" Well, that\\'s not what I said. I said, \"Do us a favor, our country.\" And then I said, the Attorney General of the United States, I didn\\'t say my campaign- I said the Attorney General of the United States, I didn\\'t say my campaign manager. Okay? I said the attorney â€¦ And these people want to impeach the President of the United States for that? Oh, and then what happened? Right? Then what happened? So then, the President of Ukraine, who\\'s a quality person, said there was no pressure exerted whatsoever. That was a killer for the Democrats, right? Then his foreign minister said the same thing. He said there was no pressure exerted whatsoever. There was no pressure. That\\'s a killer. So now did you see what the Democrats did a couple of days ago? They tried to say that he\\'s not a strong person, that he was weak. They used the word weak, that he was weak, and under the power of Trump, he said. Do you know how insulting that is? Anybody that becomes president of a country, and that\\'s a big country and it\\'s a tough country, you got to be tough. He\\'s tough. But so what they\\'re saying now is he was weak because the wording, it just doesn\\'t fit. Okay? These are really dishonest people. And if the press was fair, this thing never would have happened. So the House Democrats are surrendering their majority, their dignity, their reputations. They look like a bunch of fools. And I\\'ll tell you, we have a lot of new stars in the Republican Party, I could read off a list of 20 names. But they\\'re giving up their honor, and they\\'ll receive a big backlash at the box office. When you take a look, that ballot box, that ballot box on November 3rd, I think we\\'re going to have crowds like we\\'ve never had. And I\\'ll tell you something, it used to be, they\\'d always say, \"Oh, the Republicans.\" You know, in 2018, I didn\\'t run. I didn\\'t run, right? They all said, \"Oh, we didn\\'t.\" Well actually, we picked up two seats in the Senate that these guys never talk about. We just approved 171 federal court justices, 171 federal justices, including courts of appeal, 171. We\\'ll be up, probably by the end of the year, to 182, and for that, I thank President Obama. He gave me 142 openings. He gave me 142. I said to him, my people, I got there, because they say the most important thing you could do as a president is judges and Supreme Court. We have two great Supreme Court judges. Right? Two Justices of the Supreme court, Kavanaugh, Gorsuch. Two great men. They\\'re great. And how about the pain that they put Justice Kavanaugh through, right? Over a phony deal, I hate to tell you. Over a phony deal. What a disgrace, what they put that man through and that family through. Just remember it come November. You got to remember, it\\'s a long time. You know, in the life of Trump, 10 months is an eternity. It\\'s a long time. Somebody said, \"Congratulations sir, you\\'re going to win.\" I said, \"Don\\'t say that. Just don\\'t talk about it. Let\\'s always pretend you\\'re one point down.\" Like last time. Going to be close. Nope, it\\'s going to be close. But what they put that man through was horrible, what they put his family through was horrible. And you know, those stories largely have been recanted. And frankly, the ones that didn\\'t recant, I don\\'t know what a Supreme Court judge does, but he should sue them. He should sue them. So we want to take back the House, we\\'ll hold the Senate, and we\\'ll keep the White House. You will have the greatest healthcare. You will continue with the greatest judges. You know, we have judges that are â€¦ We just had a great story in the Wall Street Journal. I have to be always very truthful, because if I\\'m a little bit off, they call me a liar. They\\'ll say, \"He gets a Pinocchio,\" the stupid Washington Post, they have Pinocchio. I mean, even if you\\'re saying things perfectly, it\\'s a Pinocchio. There\\'s nothing you can say where you don\\'t get a Pinocchio. But what happens, what happens is we have Wall Street Journal the other day got the best story. They said, \"Whether you like him or not, the job he\\'s done on judges and Supreme Court Justices, but the job he\\'s done on judges is amazing. Say it\\'s the most important thing. See, I don\\'t agree. I say defense is the most, the military is the most. But once you\\'re beyond the military, I mean to me defense is the most important. Because without good defense, maybe we don\\'t need judges so much, right? It\\'s like somebody said, \"Well, we violated the budget.\" I said, \"Do me a favor, don\\'t worry about the budget. If we\\'re attacked and aren\\'t doing very well and somebody says, â€˜Well, at least we have a good budget,\\' that doesn\\'t work too well.\" Right? That doesn\\'t work. So we have great military, we have great judges, we have great everything. Drug prices down. For the first time in 51 years, drug prices came down. And that was with no help from the Democrats. If they helped, because you need their votes, if they helped, I could get those drug prices down 40 and 50%. Okay? And we just approved, and we\\'re approving very soon for the Governor of Florida, Ron DeSantis, where he can buy, he has the right to go, we\\'re giving him the right to go and buy from a foreign country, where the prices for the identical drug, identical drug are 50% less. He\\'s going to do that for the people of Florida. And we\\'re going to do that for your governors if they want to do that. We\\'ll get that down so far. Everyone in America can see straight through the Washington Democrats\\' phony, dangerous charade. Schiff makes up so many things. Pelosi makes it up, and she backs him up. I saw her on a television show, and George Stephanopoulos, that\\'s another beauty, he said, even he said, he was defending me. I couldn\\'t believe it. He made this statement, \"But you know he lied on that. He made up this stuff.\" \"No, he didn\\'t, he didn\\'t.\" So that means Nancy Pelosi said no, the statement that he made up. But it\\'s all going to end soon, and it\\'s going to come out to a beautiful, great victory for the Republican Party and for this nation. Thank you very much. So that\\'s it. We have the greatest country. We\\'ve turned around a ship. We need four more years. If we don\\'t have it â€¦ Now, if you want to drive them crazy, we had one group in Pennsylvania, some guy started screaming, \" 16 more years.\" 16. They went crazy. And you know what they don\\'t understand? When I do get out, they\\'re all going to go out of business. They\\'re making more money than they\\'ve ever made. That crazy New York Times, one of the worst newspapers in the world, one of the most dishonest newspapers in the history of the world, totally phony. They came out with a story, where it was a great headline for me, and the people that read it, the super radical left, they called and complained so much that they changed the headline and took it from positive to negative on a good story. Can you believe it? No, they\\'re among the most dishonest people. But I\\'ll never forget, before I took that great escalator ride down with our First Lady â€¦ Our First Lady is doing a great job, great job. I said, \"First Lady, you\\'re so lucky I took you on this journey, this wonderful, beautiful journey.\" And it is. You know why it\\'s a wonderful, beautiful journey? Because look at, what we\\'re accomplishing is unbelievable. It\\'s unprecedented. It is unprecedented what we\\'re accomplishing. \"You\\'re so lucky,\" I said it to all my people. I have great people in the back. I say, \"You folks are so lucky I took you on this. You could be home right now, relaxing.\" But I\\'d rather be here, frankly, than any place. These rallies are great. They\\'re inspiring. You are inspiring. And you know, it\\'s funny, we\\'re not even into election season. Yeah, it\\'s a long way away. We\\'re not even in it. And yet, I think the enthusiasm right now is greater than it was even before the 2016 election. Does that make any sense? I think a lot of it has to do with a witch hunt. A lot of it has to do with the phony, witch hunt because you\\'re smart people. You\\'re the elite. They\\'re not the elite. You\\'re the elite. You\\'re the elite. You do better than they do. They talk about it, don\\'t you hate it? \"Well, the elite â€¦ \" Oh really? I went to better schools. Many of you went to better schools. We won\\'t talk about homes, even though your homes are nicer. We won\\'t talk about jobs. You see the jobs reports? You see what\\'s happening? Do you see where wages are going up? You know, when I first started, when I was here, one of my first speeches, I was talking that people made more money, that was four years ago, so it was 20 years before that, so that\\'s 24, 25 years ago. They made more money 24 years ago than they were making when I got elected president. And they worked one job versus two or three jobs. Now it\\'s going up beautifully and we want that, the salaries. And you know, the number one group of people that are going up is the blue collar worker. It\\'s percentage, the best. The blue collar worker. They had two and three jobs. The blue collar worker is going up the most. Anyway, so you know what else? The thing I\\'m happiest about, African American unemployment, the lowest in the history of our country. African American. Remember I used to say, you remember, look at, you. Are you the greatest guy? Everyone thinks, do I pay? I\\'m telling you, I have a group of African American guys, and gals by the way, that follow me around and they think I pay them, and I don\\'t. I love them, they love me. They come. How many rallies have you come to? A lot. They\\'re great people, just great. Thank you. I don\\'t even know who the hell he is. Is that right? I don\\'t know him, but I like him. I see him at so many rallies. I appreciate it. You and your group, they\\'re great people. Thank you. So you\\'re obviously doing well if you can travel around like that, right? Ah, he knows. I appreciate it, I really do. I think it\\'s fantastic. Thank you. Thank you. But think of this, African-American unemployment is the lowest it\\'s ever been in the history of our country. Their poverty levels, they had a horrible poverty level, in the negative sense, now their poverty levels are the best they\\'ve ever been in the history of our country. Same with Hispanic Americans, the best unemployment numbers and employment numbers. And the same with Asians, the best unemployment. And women, I\\'m sorry, 71 years, best in 71 years. I\\'ve let the women down! But I think within another couple of months, you\\'ll be historical. So only 71 years best. The best in 71 years. But what we\\'re doing has been an incredible thing. It\\'s an incredible thing. When I\\'m on the debate stage with one of these characters, and they try and say negative stuff, I\\'ll just say, \"Well, here\\'s the story. In the history of our country, this group is doing the best, and that group is doing the best, and the women are doing the best, and everybody\\'s doing. And frankly, you know what it is? The whole country\\'s doing the best. Okay? The whole country is doing the best.\" So we have records and everything, and yet they\\'re trying to, and they really are, I\\'ve never seen anything like it, they\\'re accusing me, really, of doing what Joe Biden â€¦ Biden admitted what he did. How about this? They protect him. Did you see the crummy debate? Those debates are so boring. They\\'re dying in the ratings. They\\'re dying, they\\'re dying. \" While it\\'s totally unsupported!\" What\\'s unsupported? He\\'s on tape saying that he\\'s holding back $1 billion from Ukraine unless you change the prosecutor. How about that question? I won\\'t say who answered, because you know I\\'m not, I actually used to like the guy, he was a nice guy to me, but now I don\\'t like him so much, but that\\'s okay. But he goes, \"While it\\'s totally unsubstantiated, and while we beg your mercy that we\\'re asking you even to bring up this question, but President Trump said you refused to give $1 billion of taxpayer money to Ukraine unless they get the prosecutor to stop looking at your son and your son\\'s company.\" And Sleepy Joe gives a sleepy answer, and that\\'s the end of it. That\\'s it. Then whenever I bring it up, do you ever notice they always use, \" While these charges are totally unsubstantiated\"? He\\'s on tape! If that were me, it\\'s the electric chair. They would bring the electric chair back. No, the guy\\'s on tape, and they always say it\\'s unsubstantiated. \"It is not supported by fact,\" one of them the other day, they finally changed the word. \"It is supported by fact.\" No, it\\'s supported by tape. No, it\\'s unbelievable. In many ways, I\\'d like to have him win because number one, he\\'s going to have to eventually answer that question, and number â€¦ She said he doesn\\'t know where he is. That\\'s the other problem. Now, I\\'ve been doing this for a long time, and I have much bigger crowds than anybody\\'s ever had in history. By the way, do you know what? I say it against the fake news, because you know what they\\'re going to say. Every stadium is packed. I give my people one instruction, get the largest stadium you can get. Now, that\\'s why I was a little surprised. But in Battle Creek, you don\\'t have that many, right? Not too many stadiums. But I wanted to be here. You know why I wanted to be here? First of all the crowd is incredible. The crowd outside. But let me tell you. No, you know why I wanted to be here? Because we have a lot of choices, but I wanted to be here because this area supported me so overwhelmingly, and I said, \"I want to be there.\" Pretty simple, pretty simple. Pretty simple. I wanted to be here for that reason, and I just want to say thank you, because I\\'ll tell you what, you came in â€¦ I don\\'t know, I didn\\'t get 100%, but we got a damn good percentage, right? We got a damn good percentage. So it\\'s really thrilling to be here. But we\\'re joined tonight by many terrific Republican leaders. Your Michigan House Speaker, Lee Chatfield. Where\\'s Lee? Lee, come up if you want. Come on, what the hell, we have nothing else to do. Should we get him up? Yes. Come up Lee, come up Lee, get up here. Come on up, Lee. Republican Party Chairwoman, Ronna McDaniel, who I spoke to. And the bottom line on the end of her story, so when I won I said, \"Who\\'s going to head up the RNC?\" I said, \"I got to get that woman from Michigan.\" Remember they were all saying, \"You can\\'t win Michigan\"? Now we\\'re going to win it by so much, you better remember all those. Every time a car plant opens, please think about Trump. Come on up here, Lee. Michigan GOP Chairwoman, Laura Cox. Thank you. Hate to tell you, but all your congressmen, you know where they are right now. Your congressmen, all of your Congresspeople, men, wonderful people, they\\'re at a place called Congress right now. They\\'re doing an unbelievable job of supporting your President and supporting you. They had a choice, \"Sir, should we leave and be there?\" I said, \"Don\\'t leave. Stay right where you are.\" That\\'s why we got that vote. That\\'s some vote, right Lee? The Chairman of the Woman\\'s Workers and Workers for Trump, and a proud union autoworker, Terry Bowman, who\\'s been so terrific. Thank you, Terry. Come on up. And while Democrats are obsessed with impeachment, we\\'re focused on jobs, jobs, jobs. This group, local leaders. And all your Washington folks, they are right where they have to be in Washington tonight. Thank you. Thank you. Great job. Thank you very much. We\\'ve eliminated more job-killing regulations than any administration in the history of our country, whether it\\'s four years or eight years, or in one case, much more than eight years. In a period of two and a half years, we have eliminated more regulations than any other president, by far. You\\'re saving almost $3,000 a year because of regulation cuts. Total income gains for median households will reach $10,000 a family. I\\'ll give you a couple of quick numbers. So under President Bush, for eight years, you saved $450, meaning you took in 450 bucks. Okay, fine. Under President Obama, you took in $975. Under President Trump, including the energy savings, and the regulation savings, and the tax cut savings, it\\'s more than $10,000 in less than three years. Pretty good, right? So for two eight-years, you had a 400, 450, and a 975. That\\'s eight years. 450. In less than three years, you had more than $10,000. That goes right into your pockets. It\\'s one of the reasons our economy is doing well, because, as they say, the consumer is doing better than they\\'ve ever done. And that\\'s great, that\\'s what we wanted. We\\'ve ended the war on American energy, and the United States is now the number one producer of oil and natural gas on planet earth. And these maniacs want to close it up. How about going to Texas? You know Beto? What? Remember what he said, I said, \"Oh, this guy\\'s a loser. You know a salesman, like if you\\'re a great salesman, you never talk that you\\'re a great salesman. You don\\'t walk in and say, \"Well, I\\'m a great salesman. I can sell â€¦ \" Any guy that does that, they\\'re no good. It\\'s those quiet type that get you. You know, the ones that don\\'t talk. So Beto, when he first got in, remember this clown? He gets in, no, no, he gets in. \"I was made for this job, to run for president.\" After about two weeks, they killed him. He was gone. But you remember, he was against the Bible, he was against religion, he was against guns, and he was against oil and gas. And he comes from Texas. I said, that\\'s a platform. Think of it. He\\'s against religion, he\\'s against guns, and against oil and gas. Think of it. I don\\'t like to bring it up because he\\'s gone zone, but he comes from Texas. I said, \"Abraham Lincoln can\\'t win in Texas with that platform.\" But they are, all of them, they want to close up your energy. It\\'s a big deal. They want to close up your steel mills. They don\\'t want your steel mills. Look at what I\\'ve done for steel. I mean, the steel is back. We taxed all of the dump steel coming in from China and other places, and your steel mills that are doing great, they\\'re expanding all over the country. And they were going to be out of business within two years. The way they were going, they were gone. United States Steel is spending now billions of dollars on expansions. Every major Democrat running for president has pledged to eliminate gas powered automobiles and destroy the U.S. auto industry forever. And you know why? Because they have these maniacs that say you got to go all electric. I want to have an alternative, a big alternative. You\\'re going to always have the alternative. And a lot of people don\\'t know of the electric can ever catch the gas, you know? And by the way, there\\'ll be different forms of energy coming along. But they want to close them up, and we\\'re not closing them up. We\\'re going to have lots of alternatives so that you can have it from a pricing, you can have it for a lot of different reasons. We\\'re even bringing back the old light bulb. You heard about that, right? The old light bulb, which is better. I say, \"Why do I always look so orange?\" You know why? Because of the new light, they\\'re terrible. You look terrible. They cost you many, many times more, like four or five times more. And you know they\\'re considered hazardous waste. When a light bulb is out, you\\'ve got to bring it to a dump. So let\\'s say, over here in Battle Creek, where\\'s your nearest dump? Okay, that\\'s what, a couple of hundred miles away. So every time you lose â€¦ drive a couple of hundred miles, right? I said, \"How many people do that?\" Nobody. What do they do? They throw it in the garbage. But you know what it is, because it\\'s all gas. It\\'s much more expensive, four or five times more. And I came into office, I did a lot of this. Sinks, showers, all of this stuff, I did a lot of it. No water comes out. You have areas where there\\'s so much water, you don\\'t know what to do with it. You turn on the shower, you\\'re not allowed to have any water anymore. I mean, we do a lot of it. Dishwashers, we did the dishwasher, right? You press it. Remember the dishwasher, you\\'d press it, boom, there\\'d be like an explosion, five minutes later you open it up, the steam pours out, the dishes. Now you press it 12 times, the women tell me, \"Again.\" You know, they give you four drops of water, and they\\'re in places where there\\'s so much water, they don\\'t know what to do with it. So we just came out with a reg on dishwashers. We\\'re going back to the old. By the way, by the time they press it 10 times, you spend more on water, and electric. Don\\'t forget, the whole thing is worse because you\\'re spending all that money on electric. So we\\'re bringing back standards that are great, and better machinery that you can have the water again, right? But with the light bulb, I said, \"What\\'s going on with the light bulbs? A lot of people are complaining about the cost.\" So I had a couple of experts come in, I said, \"Tell me, what gives a better light?\" \"Well, we liked the old light bulb better.\" I said, \"I like it better.\" And so what I did is you can have either one. If you want to buy the newer kind, you can. And if you want to look very handsome or beautiful by buying the older kind, like I do. So we\\'re bringing back the old light bulb. So it\\'s a much less expensive, it probably gives a better light. But whatever it is, and you\\'ll be able to spend a lot less money for a light bulb. I mean, it sounds like little, but it\\'s big stuff. Okay? It\\'s big stuff, and we\\'re doing it with a lot of other things, our dishwashers. And you know, I won\\'t tell you one of the things, because every time I tell you, they do a big number on it. You know the one I\\'m talking about, right? Sinks, right? Showers. And what goes with a sink and a shower? 10 times, right? 10 times. Not me, of course, not me, but you, him. But I never mention that, because one time I mentioned all three, I said, \"Sinks, showers, and toilets.\" The headline was, \"Trump with the toilets, toilets.\" That\\'s all they want. They don\\'t even mention it. So I didn\\'t mention that, okay? I go off the record. But you know what? It\\'s terrible. You want to wash your hands, you turn on the sink, no water comes out. So you leave the water going 10 times as long, it\\'s the same thing. You have a shower, drip. It\\'s no good for me. For me. You know the one thing that came out really good about being in this business? They always used to say I wore a hairpiece. It\\'s okay. I know people wear hairpieces. But they always used to say. They don\\'t say that anymore because I have been through the worst storms. If you wear one of those suckers, you got to give it up fast because within two weeks they got you. You look handsome, don\\'t worry about it. But in the last two decades before my election, we lost one in five auto manufacturing jobs in this country. The people are trying to impeach us for doing all of the things that they\\'ve wanted to do for so many years. And that\\'s why it doesn\\'t work. We look so forward to taking it on, and it is all about cleaning the swamp, draining the swamp, and we have a very, very big, bad, dangerous swamp. Okay, that\\'s enough of that. That\\'s enough. So among the very first acts that I did was to stop the deal that would have dealt a death blow to the U.S. auto industry. I withdrew from the horrible Trans Pacific Partnership. That would have ended your auto industry. A lot of people don\\'t know that, but I do. Remember TPP? We were basically ceding our auto industry to these countries that were just going to rip us off. The people that made these trade deals, it\\'s like, where do they come? Like the one in Korea, that was a Hillary Clinton special. She said, \"This will produce 250,000 new jobs.\" And I said, \"Well, what happened?\" He said, \"Well, she was right.\" Except it was for South Korea, not for us. No, it\\'s true. It produced 250,000 jobs for South Korea. These deals were so bad. But now they\\'re getting really good, and some of them are getting great, and over a period of time they are going to be phenomenal. Wait till you see the numbers that start coming out of this country over a short period of time. But we have to go through a little pain, because we have to do it, and then they all say, \"We\\'re going to withdraw,\" and then I say, \"You can withdraw, I don\\'t care. We\\'re putting tariffs on your country.\" Then they say, \"We\\'d love to make a deal, sir.\" The new USMCA has powerful protections to keep auto manufacturing jobs right here in Michigan where they belong. Since the election, we\\'ve created 41,000 brand new motor vehicle and parts jobs, manufacturing jobs. Remember the statement by President Obama? \"You\\'d have to wave a magic wand.\" Remember the magic wand? Because manufacturing â€¦ And I said, \"You know, that sounds strange. What do you do if you don\\'t have manufacturing? How do you make things?\" Right? Manufacturing jobs won\\'t happen. Well, we\\'ve got 600,000 manufacturing jobs, and you\\'re going to see a big, big increase. The truth is, we need more people. You know what? We need more people. We need more people coming into the country, and they\\'re going to come in, and they\\'re going to come in through merit, and they\\'re going to love our country, and they\\'re going to respect our country, and they\\'re going to work. We do need more people. They\\'re opening these massive, Foxconn in Wisconsin, they\\'re opening these massive plants and it\\'s hard to get people. We want people coming in, but they have to come in, only they have to come in through merit. Fiat-Chrysler recently announced a $4.5 billion investment in Michigan, including the first new auto plant in Detroit in more than a generation. And General Motors recently announced a $300 million investment at its Orion Assembly Plant right here in Michigan. Come on, General Motors, let\\'s go. General Motors gave us a little hard time with one building. I wasn\\'t happy about that. That was the only building I had a problem within the whole car industry, right? Right? You know the one I\\'m talking about. I didn\\'t like that. Anyway, but they\\'re spending money, you know, what can I tell you? But these companies are coming in, a lot of the foreign companies are coming because they have to. I say, \"You have to, or we\\'re not trading with you anymore.\" Because we had such big deficits with these countries. With Japan, we had a $68 billion deficit. I said, Shinzo, he\\'s great Prime Minister of Japan. But he said, \"But nobody has ever asked us to do this.\" I said, \"I\\'m asking you.\" They are building many, many plants. They\\'re building many plants now in the United States, the Japanese. And after years of rebuilding foreign nations, we are finally rebuilding our nation. Is that okay? We were surrounded with globalists. You know, they think it\\'s okay. You open a plant in some country that you never heard of, they make your product, they send it. In the meantime, they close all their factories here. We\\'re not doing that anymore. Those are globalists. They think it\\'s wonderful to have deficits. I don\\'t. They think it\\'s great. It\\'s a great thing to have deficits. No, those are globalists. The globalists are passe.  our first duty and our one true allegiance is to you, the American people, before anybody else. We must care for our own- We must care for our own citizens first Democrat immigration policies are resulting in brutal assaults and wicked murders against innocent Americans. I don\\'t even know what\\'s happening. It\\'s terrible. And we\\'ve moved out thousands and thousands of MS13 thugs out of our country. And we have agreements now with Guatemala, Honduras, El Salvador. They didn\\'t use to take them back. If we had a murderer, then we should get them the hell out. We don\\'t really want them in our prisons and take care of them for 50, 60 years. We want to bring them back. They wouldn\\'t take them. The planes used to go around and around, don\\'t land, don\\'t land. With us, they land. We worked out deals with every one of them. We stopped giving them all the aid. We\\'re giving them all this money and then they said, \"We\\'re not going to let you land. We\\'re not going to let you take them back.\" I said, \"That\\'s okay. 500 million, we were giving them. I said, now we give them $5 we give them nothing. All of a sudden they said, \"We would love to have them back.\" We would love it. It\\'s wonderful to have them back. In June, two illegal aliens in Sandusky, Michigan were convicted of sadistically beating and stabbing a woman to death with a kitchen knife. Then, they hid her body in a water drain. A criminal alien with two previous deportations was just arrested in Michigan and convicted of brutally beating and strangling to death, a single mother of five young children. It\\'s happening all the time. Far left politicians support deadly sanctuary cities, which deliberately release dangerous, violent criminal aliens out of the jails and directly onto your streets. We had a great election in North Carolina recently, two great congressmen got elected, you don\\'t hear about it, when they win, you don\\'t ever hear about it, just a few months ago. Two great people and they got elected and they got elected because I went in and said, \"Talk about the fact that you have sanctuary cities\" and they had some horrible crimes happening from those sanctuary cities. Soon as I mentioned that, boom, they went up like rocket ships and they won their elections and it was great. Great thing. The sanctuary cities are a disaster and let me tell you, the people of California, they don\\'t like sanctuary cities either. They\\'re stuck with them because they have crazy politicians. Earlier this year, authorities in the sanctuary jurisdiction of Kent County, Michigan, anybody know Kent County? Released an illegal alien charged with assault with intent to murder after he repeatedly and viciously stabbed a man in the head with a broken bottle. They let him go to roam free in Michigan communities. If you want to end sanctuary cities in Michigan, if you want to protect your families from criminal aliens, if you want to have a safe life, frankly, it\\'s so crazy what they\\'re doing. You wouldn\\'t even believe it. You have only one choice in 2020, you must vote Republican. Thank you. I\\'m surprised. As you know, you do have sanctuary cities in Michigan. I was almost surprised to hear it, but you have them. It\\'s one of those progressive things? They think they\\'re doing a wonderful favor for the world. And now we\\'re getting these prosecutors that, you murder somebody, they give you two months, they fight that you don\\'t even have to go to jail. What\\'s going on is crazy. Thanks to our tireless efforts to secure the border, illegal crossings are down 75% since may and we\\'ve ended catch and release. We\\'ve ended it. We could\\'ve ended it so easily. It\\'s called the loophole. You catch him and then you release him into a country. That\\'s what you had to do by law. And if you don\\'t do that, they arrest the border patrol people. You believe this? The border patrol people were in more danger than the criminal aliens coming in and some of these people are not good people. These are the people because look, when you have a caravan of eight or 10,000 people, a lot of those people, do you think that Guatemala, Honduras, El Salvador, do you think they\\'re sending us their finest? I don\\'t think so. Alright. How about the lottery? That was a Schumer deal. Chuck Schumer, crying Chuck, crying Chuck Schumer. I used to be a big contributor to him, he used to kiss my ass, Chuck Schumer. He\\'d do anything. He would\\'ve done anything for me. Anything I asked him, get Schumer on the phone, \"You do this, you do that. You get him on the phone, that son of a bitch.\" He would have done, I didn\\'t need anything, but he would have done anything. Now it\\'s like, \"The prisoner has not acted-\". Give me a break. Give me a break. Find out how much money did I give a raise to Chuck Schumer and Chuck, give all that money back please. Carolyn Maloney, give that money back. Every penny should come back. They act so pompous. They act so righteous. They\\'re not righteous. They\\'re not righteous. They\\'re bad people. The far left Democrats have never been more extreme than they are now. Democrats are pushing a socialist takeover of healthcare that will take away your coverage and take away your doctor. 180 million people are going to lose. A lot of people here now have healthcare finally under us that\\'s phenomenal. And that\\'s what you want. They want to take it away, 180. They want you to go to a hospital ward someplace and sit there all night. I don\\'t think so. Not in this group. And you know what? Some people, it\\'s good so people, but can you imagine? They want to take away 180 million people, great, private, highly negotiated healthcare where you have your own doctor. Remember Obama? 28 times, \"You can have your doctor, you can have your plan.\" Didn\\'t work out that way, did it? I think we should impeach him for that. Let\\'s impeach him, for that, for the IRS scandal, for the guns. Remember the guns, he was giving them to anybody that wanted them. He gave guns to the worst people in the world and then they didn\\'t have them registered, right? Not to good. Impeach him. Why didn\\'t the Republicans impeach him? Those were really, how about giving around $1.8 billion in cash? How about that? By the way, I ended the Iran nuclear deal. I hope you happy, much different country. But how about giving Iran $1.8 billion in cash. Many big planes going over to Iran, loaded up to the ceiling with cash. You know what $1.8 billion, you ever see like at a casino, $1 million wrapped up? It\\'s a big pile of stuff, that\\'s a million. Now multiply it, $1.8 billion in cash he gave. So, why is he allow to do that? Did anybody try to impeach him for that? Everybody knew it was wrong. Republicans will strongly protect patients with preexisting conditions and we will protect your preexisting physicians. Virtually every top Democrat also now supports late term abortion, ripping babies straight from the mother\\'s womb, right up until the moment of birth. Right? That is why I\\'ve asked Congress to prohibit extreme late term abortion because Republicans believe that every child is a sacred gift of God. Democrats are now the party of high taxes, high crime, open borders, late term abortion, socialism, and blatant corruption. And that\\'s what it is. The Republican party is the party of the American worker, the American family, and the American dream. And that\\'s really what it is. We\\'re also the party of the great Abraham Lincoln. A lot of people forget that, but we have to bring it up. To protect the health and safety of our citizens, we awarded $100 million to improve water infrastructure in Flint. How badly was Flint? Who were the geniuses that did that to you? You have clean water coming into Flint. They had to pay a very tiny little fee. So instead, they go into this horrible, horrible, really polluted water and the water comes out of there. They spend hundreds of millions of dollars to save like a couple of bucks, and the water was so terrible and it hurt the people. It hurt the people. But we\\'re getting it fixed. And I know your previous governor was a Republican, but I was not a big fan of his. I was not, but I\\'m not a big fan of the one that can\\'t fix the potholes either. We\\'re committed to ensuring America has the cleanest air in the cleanest water on planet earth, and that\\'s what it\\'s about. It\\'s about clean air and it\\'s about clean, beautiful water. And it\\'s about keeping our industry, not closing it because of the ridiculous Paris Climate Accord. How\\'s Paris doing? I don\\'t think too well. How\\'s Paris doing with the yellow vests? The yellow vests? You know why? Because they raise gasoline prices so they could send them money all over the world to countries that the people in France never heard of. It\\'s not working out too well. We\\'re lowering prices. We\\'re lowering taxes. We\\'re making it possible. I mean, look at gas prices now. Look at gas prices. I recognize Israel\\'s true capital and opened the American embassy in Jerusalem. And we also recognize Israeli sovereignty over the Golan Heights. Big deal. For years, you watched as your politicians apologized. Member, \"I would like to apologize. I would like to apologize.\" Nah, we don\\'t apologize. Now you have a president who is standing up for America and we are standing up for the great people of Michigan. You\\'re getting your auto industry back. At stake in our present battle is the survival of the American nation. If you want your children to grow up, a land of safety, it\\'s really, we want a land of safety, justice. Well, I don\\'t know. When I look at those FBI reports we got out, we got to clean up a lot. What they\\'ve done to hurt people, what they\\'ve done to hurt with Comey and these horrible people, what they\\'ve done to hurt people. I think one of the best things I did as president, a lot of people would say, \"With all what we\\'ve done for the economy and,\" but one of the best things is firing James Comey\\'s ass out of there. Boy, those reports are kept. Did you see the other day? \"Well, ah, ah.\" First time now he said, in other words, he\\'s 50% there folks. He\\'s hit the golden pond. Anyway, so what we\\'re doing is, we\\'re doing things that are going to make our victory, it\\'s like a tree. We need that extra four years. We\\'ve done so much, even Right to Try. You know Right to Try? People were traveling, they\\'re terminally ill, they\\'re traveling all over the world. We have the best medical in the world, the best doctors, the best labs, best hospital. They\\'re traveling all over the world, to try and get, because it takes years to get something approved. And I said, \"Wait a minute folks, why aren\\'t we doing this?\" And they\\'ve been trying to do it for 49 years. They couldn\\'t get it done. Not that easy. The drug companies didn\\'t want the liability, the country didn\\'t want the liability, the insurance companies didn\\'t want the liability. I said, \"Here\\'s what we do. We\\'ll sign an agreement with the people where you\\'re exculpated from all liability.\" \"Huh? That\\'s a good idea.\" And it\\'s a very strong agreement so we can\\'t get sued. But I said, \"Listen, they were worried they\\'re going to hurt people.\" I said, \"These people are terminally ill. They\\'re terminally ill, and so we do it now.\" Nine months ago, all the legislators at the 49 years, so if somebody\\'s sick, they don\\'t have to go to Asia, they\\'re have to go to Europe. Or if you\\'re poor, you go home and you die. Now what happens? Very simple. You sign that document, they work it out. You wouldn\\'t believe how many lives are being saved. It\\'s incredible. It\\'s incredible. I\\'m very proud of it, Right to Try. I hope you don\\'t need it. You don\\'t want it. You don\\'t want it. Okay? But if you do, it\\'s there. With your help, we will lift millions of more of our citizens from welfare to work, dependence to independence and poverty to prosperity. Together we will elect a Republican Congress to create a fair, safe, sane, and lawful system of immigration. We will enact the greatest trade deals ever made. They\\'ll result in more products, proudly stamped with that beautiful phrase, made in the USA. We will achieve new breakthroughs in science and medicine. What we\\'re doing is unbelievable. We\\'re so far ahead of everybody. What we\\'ve done in the last three years with the FDA and even the speed of what we\\'re doing, it would take 12, 13, 14 years to get things approved. It\\'s down to a much smaller number, but we\\'re finding new cures for childhood cancer and we are ending the AIDS epidemic in America. We\\'ve started the process. Who would\\'ve thought that? In 10 years, it\\'s a 10 year process, we will have ended the AIDS epidemic in America and it could have been been started before I came to office. It was just wasted time. We will defend privacy, free speech, free assembly, religious liberty, and the right to keep and bear arms. Above all, we will never stop fighting for the sacred values that bind us together as one America. We support, protect and defend the constitution of the United States. We stand with the incredible heroes of law enforcement. They\\'re incredible, and that includes ICE. You know how tough these people are? These are great patriots. They love our country. Even the sheriffs alone for, some of the people that they\\'re dealing with. These guys walk into the golem\\'s nest and in some cases they just swing it out. They can have it. They love it. These are great. If we didn\\'t have them, and I told you before, they\\'re taking out bad, bad, bad people by the thousands, especially MS13 gang members. Who\\'s going to do that? Who\\'s going to do that? Anybody in the front row? I don\\'t know. What about you? You\\'re a tough guy. You might do it. You could do it. I don\\'t know. You might, yeah, you can. What you like? We\\'re going to recruit you. I think you could handle yourself. Now, these are tough people, right? You got to be tough. Then they get accused, they\\'re too tough. Oh, they\\'re too tough. You have some of these guys. They knife people. They don\\'t even need a gun because it\\'s more painful. They knife the two young girls, 16 years old. Beautiful. They cut them up into pieces because it was more painful than shooting them. These are animals. And then Nancy Pelosi said, I shouldn\\'t use the term animal. And by the way, she ought to go home and take care of her district where the homeless is all over the place and the tents and the filth and the garbage is a eroding right into the Pacific ocean and into their beaches. She ought to go and take care of her district in San. Do you see what\\'s going on? And it rains and it\\'s filth and it\\'s needles and it\\'s drugs and it\\'s, you know what. It\\'s everything and it goes right into those storm sewers. Storm, not sanitary, storm and it goes right out into the Pacific ocean into the beaches and we fine Los Angeles and San Francisco, but we\\'ve just sent them a tremendous dollar fine for what they\\'re doing. And Nancy Pelosi is playing games. She ought to go home and take care of the homeless and take care of the filth and everything. San Francisco was the most beautiful city. When you look at what\\'s happened with the tents all over the place, where the police officers are getting sick just from walking the beat, they\\'re getting sick. Diseases are coming back that this world hasn\\'t seen for 30, 40, 50 years. It\\'s a disgrace. She ought to get back and take care of her district instead of wasting time on this nonsense. We believe in the dignity of work and the sanctity of life. We believe that faith and family, not government bureaucracy are the true American way. We believe that children should be taught to love our country, honor our history, and to always respect our great American flag. And we live by the words of our national motto and it\\'s always going to be up there. They want to take everything down. They don\\'t want Thomas Jefferson anymore. They don\\'t want anything. That\\'s a terrible thing and we fight for it, now. We fight. These words will never be taken off. I don\\'t care where I am. If I\\'m up there, if I\\'m down here, I don\\'t know, but we\\'ll be fighting. We\\'ll never take these words off, in God we trust. We stand on the shoulders of generations of Michigan Patriots who gave their blood, sweat and tears for this beloved nation. This is the state where Henry Ford invented the assembly line. It\\'s the place where General Motors, Chrysler and Kellogg transformed the nation. It gave us Motown, the Mustang and the might of the American Midwest. This is the American mid west. And Michigan is the state where generations of strong, tough and proud American workers made this into the greatest and most powerful nation in the history of the world. And we are making it bigger, better and stronger than ever before, by far. Loyal citizens like you help build this country. And together, we are taking back our country. We are returning power to you. The American people, the Democrats took the people of Michigan for granted, but with us, you will never be forgotten again. The forgotten men and women of this country will never, ever be forgotten again. And I\\'m fighting for you. And I love doing it with everything that I have. And I will never, ever stop. And you know that. I will say I could have a much easier life. Some people say, \"Why is he doing it?\" You know why I\\'m doing it because we\\'re doing the thing and look what we\\'re doing is we\\'re bringing back our country again. We\\'re respected again, we\\'re respected again. We are so respected, you don\\'t even know how respected. I went to NATO where we were being ripped off because the other countries, you have 29 countries, and the other countries weren\\'t paying their bills. They were delinquent in real estate. I noticed people are using that word. I\\'ve been using it for the last year. It\\'s like a real estate trend. That\\'s when they don\\'t pay their rent, right? Well, they weren\\'t paying and you have to see this chart, until I got there. They got to pay and they said, \"Well, does that mean you won\\'t protect us?\" I said, \"You don\\'t want the answer to that question.\" Over the last, and the Secretary General Stoltenberg, over the last period of just two years, I raised, not from us, nothing from us, $130 billion, but that\\'s nothing and over a short period of time they will be paying $530 billion more. All of those countries. My biggest fan in the world is Secretary General Stoltenberg of NATO. He says, \"I never thought this could.\" I\\'m telling you, if you look, it\\'s like 15 years just down. President Obama would go there, make a speech, \"I\\'d like to thank everybody for being here. Thanks. Look, great job. Sayonara. Goodbye.\" Bush, they all did. Nobody ever asked for money. We were spending for 100% of NATO. We\\'re protecting Europe. They rip us off on trade, right? They rip us off like crazy. We lose hundreds of billions of dollars on trade. We\\'re changing that, but it\\'s a long time. It\\'s been going on a long time. They don\\'t take your product. They don\\'t take your cars. They don\\'t take your farm product. They don\\'t take your medical machines. We do a big business. They sell us. We don\\'t sell them because they put restrictions. We have better equipment than them, but they make it so that our equipment doesn\\'t qualify. It\\'s called artificial barriers or non-monetary barriers. It\\'s brutal what they do. I\\'m telling you, they\\'re as bad as China, just smaller. They are as bad as China, just smaller and now China\\'s doing great. We\\'re very happy, but we have to do something with that. We have to take care of our people. We can\\'t be ripped off by these countries, so NATO is ripping us off militarily, but now they\\'re starting to pay big money and that\\'s good. We want to help them. We want to be there with them, but they have to pay. They have to pay. $530 billion and the fake news doesn\\'t even want to talk about it. They don\\'t want to talk about it. They talk about other things. They don\\'t want to talk about that. When you\\'d get a chance though, just a couple of weeks, maybe you could say over a short period of time, NATO countries will be paying $530 billion more. More, not total. More. How\\'s that? Good. That\\'s not too bad. Nobody else could do that, I guarantee. I won\\'t tell you what took place in those closed door meetings. Some of them don\\'t like me. They like Obama. Germany likes Obama. A lot of these countries, France, they like Obama. It\\'s embarrassing. In France, President Obama is more popular than President Trump. Well, I should be. I just taxed their wine and champagne coming into our country because they\\'re ripping us off on the internet. Okay. If I ever become more popular, that means I\\'m not doing my job. You should say he\\'s out. It\\'s true. I could be loved in Germany. I could be loved in Germany. Oh, they\\'d love me. My father came from Germany, parents and I could be loved in Germany. They\\'d like me so much, but then I\\'m not doing my job for you. Have to do it. Have to do it. With your help, your devotion, your drive, we\\'re going to keep on working. We\\'re going to keep on fighting. We are going to keep on winning, winning, winning because we are one movement, one people, one family and one glorious nation, under God. America is thriving like never before. And ladies and gentlemen of Michigan, the best is yet to come. Great state. Great state. You better remember all those jobs in a year from now, I tell you. I\\'ll say, \"That state let me down.\" I don\\'t think that\\'s going to happen. I\\'m hearing very good thing. You know the interesting thing, before it was like a promise. I said I\\'m going to bring car back. I\\'m going to bring this. I\\'m going to be pres, it was all like, it\\'s good. You believed me, I was successful, all this, but now we\\'ve done it. We have done more than I promised, no politics. I promised, we\\'ve done more than we promised. No politician I think, has ever done that. Together we will make America wealthy again. We will make America strong again. We will make America proud again. We will make America safe again and we will make America great again. Thank you. Thank you, Michigan. Thank you.'"
            ],
            "application/vnd.google.colaboratory.intrinsic+json": {
              "type": "string"
            }
          },
          "metadata": {},
          "execution_count": 6
        }
      ]
    },
    {
      "cell_type": "code",
      "source": [
        "len(FileContent)"
      ],
      "metadata": {
        "colab": {
          "base_uri": "https://localhost:8080/"
        },
        "id": "age9BKC9S1__",
        "outputId": "90d76e1e-d451-46ff-d0e2-011d56a8b785"
      },
      "execution_count": 7,
      "outputs": [
        {
          "output_type": "execute_result",
          "data": {
            "text/plain": [
              "95916"
            ]
          },
          "metadata": {},
          "execution_count": 7
        }
      ]
    },
    {
      "cell_type": "code",
      "source": [
        "from transformers import AutoTokenizer, AutoModelForSeq2SeqLM\n",
        "\n",
        "checkpoint=\"facebook/bart-large-cnn\"\n",
        "\n",
        "tokenizer= AutoTokenizer.from_pretrained(checkpoint)\n",
        "model= AutoModelForSeq2SeqLM.from_pretrained(checkpoint)\n"
      ],
      "metadata": {
        "colab": {
          "base_uri": "https://localhost:8080/",
          "height": 177,
          "referenced_widgets": [
            "8de523a9605241a687c4d9361bf1f1bb",
            "f9ac1661901f4f9dbfca390e9f1045c6",
            "9c9cb2e66fcc4131ac240ecdbc029a34",
            "5bb03a01d31d4513b760aac720333f2a",
            "872017eee0794f48a46ac10165d444ab",
            "191df0349d6846e1afe470038a23774e",
            "4c58d097bb5944f0b36ea84de75def05",
            "b019dcb6a34546b2a592c33de98e7111",
            "19ed7d4bd1854e448c1f3c86a3c07073",
            "d94fc0e4417e40139781cba3d928c511",
            "e5d1011036cb43daac22662cca3ba5dd",
            "4fbef7f4dd334df1bf2b2d48830d6fe4",
            "9d9e96131a9842acb7317e0724ec9091",
            "c6dd0eef2b7440d5a93249162838f72e",
            "e8497a5a912045a1b210291999e91702",
            "acf4d035b2d1433984e76f3999fb6fd7",
            "d3b6c346bbc0461bbe5280c0ddfd8d4a",
            "cd8d0c0f2ec84417b211c820f62bfc63",
            "e3015bc00ba64fdcb9177de9207e6ac3",
            "6a772327d57246aea6a712ab6f8e4c2e",
            "c7836f70b87e4d37b6f6d41a3ae82ef4",
            "b999d7abbfda440388b47fc485fd8af7",
            "99e4694aebfa47a4aa04df5c8b2be11f",
            "2604ec0b33f9461a8c84c7d97a5a196e",
            "c805e9ee5f0d46fc8f0faaefdbce746a",
            "c7eb7379ae8548d0ba1ea21000c0f591",
            "884c032f389947249bbc5d33df165c8f",
            "e62d6c8fe82a4e0aba0b1c876a98a4fa",
            "3a919fadb8364aba80a0d095d8f75e1d",
            "a3d5574baab448659444dd5a163429eb",
            "f936b4b7e538420ba1eca005849e9aed",
            "3f371df6581143e1a4553736e7b6311a",
            "e6764da635f0458eafa4be94477a01b9",
            "2c5404af7fb841a497bd57d9f716e0d4",
            "b29d9e0b38b74f349d74bb1f773c94b5",
            "8602c4b5e79d4e8d8ac5ea1f50c23d4f",
            "62aa96cb6cfd4393aa60a19d0d0f918a",
            "0bc4bbbd4a9b4303b2908f26c9cc4e9b",
            "ed7df286cb2a46908e8a3129083120b7",
            "61e4ffb525ae46949721943dc7f4252f",
            "f2c14c148f5b46f3aad346c2d9b3da47",
            "d48b4f08151a432ea81f16df57091183",
            "d7934f07bfee4aa5aaa01287acb0d63e",
            "a7d79276e32c4409a6c5ee2a6d85a23e",
            "c70ad4e5bb824ac1849c2aeb680afbd9",
            "618ebf53eaee46b3a7e4c0f4f8e59956",
            "a03e8ebdee354a04b3889afcdf1ba0a4",
            "05b7035f40114863a283ffce0555f115",
            "fea657cef10d4ab18c40b8c7934fca79",
            "1d2c8b05c3004e8fb271fae9bfc25f94",
            "3bd8006f9d43408a8ddc3b3b315048b9",
            "670bd0c22c604a00958c3fe2bbab8dc5",
            "63d9e9f34b754e068e48692e78814a86",
            "30a96b04b3cc444b9dc69090d1513ddc",
            "fec7e4be434f4303b733b3dee500c866"
          ]
        },
        "id": "bQhXAtU7S4rO",
        "outputId": "5125c0e3-d8d6-48fa-fe5f-202b82b34f8d"
      },
      "execution_count": 8,
      "outputs": [
        {
          "output_type": "display_data",
          "data": {
            "text/plain": [
              "Downloading:   0%|          | 0.00/1.58k [00:00<?, ?B/s]"
            ],
            "application/vnd.jupyter.widget-view+json": {
              "version_major": 2,
              "version_minor": 0,
              "model_id": "8de523a9605241a687c4d9361bf1f1bb"
            }
          },
          "metadata": {}
        },
        {
          "output_type": "display_data",
          "data": {
            "text/plain": [
              "Downloading:   0%|          | 0.00/899k [00:00<?, ?B/s]"
            ],
            "application/vnd.jupyter.widget-view+json": {
              "version_major": 2,
              "version_minor": 0,
              "model_id": "4fbef7f4dd334df1bf2b2d48830d6fe4"
            }
          },
          "metadata": {}
        },
        {
          "output_type": "display_data",
          "data": {
            "text/plain": [
              "Downloading:   0%|          | 0.00/456k [00:00<?, ?B/s]"
            ],
            "application/vnd.jupyter.widget-view+json": {
              "version_major": 2,
              "version_minor": 0,
              "model_id": "99e4694aebfa47a4aa04df5c8b2be11f"
            }
          },
          "metadata": {}
        },
        {
          "output_type": "display_data",
          "data": {
            "text/plain": [
              "Downloading:   0%|          | 0.00/1.36M [00:00<?, ?B/s]"
            ],
            "application/vnd.jupyter.widget-view+json": {
              "version_major": 2,
              "version_minor": 0,
              "model_id": "2c5404af7fb841a497bd57d9f716e0d4"
            }
          },
          "metadata": {}
        },
        {
          "output_type": "display_data",
          "data": {
            "text/plain": [
              "Downloading:   0%|          | 0.00/1.63G [00:00<?, ?B/s]"
            ],
            "application/vnd.jupyter.widget-view+json": {
              "version_major": 2,
              "version_minor": 0,
              "model_id": "c70ad4e5bb824ac1849c2aeb680afbd9"
            }
          },
          "metadata": {}
        }
      ]
    },
    {
      "cell_type": "code",
      "source": [
        " tokenizer.model_max_length"
      ],
      "metadata": {
        "colab": {
          "base_uri": "https://localhost:8080/"
        },
        "id": "S3TETDFoTsKf",
        "outputId": "014b40d0-ba3a-4339-8aed-845a0d6658dd"
      },
      "execution_count": 9,
      "outputs": [
        {
          "output_type": "execute_result",
          "data": {
            "text/plain": [
              "1024"
            ]
          },
          "metadata": {},
          "execution_count": 9
        }
      ]
    },
    {
      "cell_type": "code",
      "source": [
        "tokenizer.max_len_single_sentence"
      ],
      "metadata": {
        "colab": {
          "base_uri": "https://localhost:8080/"
        },
        "id": "YpKYZ8xkU-zN",
        "outputId": "b36e8e14-81ed-433d-bf46-2c94d6a0a54b"
      },
      "execution_count": 10,
      "outputs": [
        {
          "output_type": "execute_result",
          "data": {
            "text/plain": [
              "1022"
            ]
          },
          "metadata": {},
          "execution_count": 10
        }
      ]
    },
    {
      "cell_type": "code",
      "source": [
        "tokenizer.num_special_tokens_to_add()"
      ],
      "metadata": {
        "colab": {
          "base_uri": "https://localhost:8080/"
        },
        "id": "nUhB5QjWVClV",
        "outputId": "650e620f-e7e5-49d5-9ab1-0b96bac9df71"
      },
      "execution_count": 11,
      "outputs": [
        {
          "output_type": "execute_result",
          "data": {
            "text/plain": [
              "2"
            ]
          },
          "metadata": {},
          "execution_count": 11
        }
      ]
    },
    {
      "cell_type": "code",
      "source": [
        "import nltk\n",
        "nltk.download('punkt')"
      ],
      "metadata": {
        "colab": {
          "base_uri": "https://localhost:8080/"
        },
        "id": "okcZf9P6VIiU",
        "outputId": "b5b43d94-baf7-40b5-ecab-cfb69b6b0fcd"
      },
      "execution_count": 12,
      "outputs": [
        {
          "output_type": "stream",
          "name": "stderr",
          "text": [
            "[nltk_data] Downloading package punkt to /root/nltk_data...\n",
            "[nltk_data]   Unzipping tokenizers/punkt.zip.\n"
          ]
        },
        {
          "output_type": "execute_result",
          "data": {
            "text/plain": [
              "True"
            ]
          },
          "metadata": {},
          "execution_count": 12
        }
      ]
    },
    {
      "cell_type": "code",
      "source": [
        "sentences= nltk.tokenize.sent_tokenize(FileContent)"
      ],
      "metadata": {
        "id": "gnJnlrYSWOs1"
      },
      "execution_count": 13,
      "outputs": []
    },
    {
      "cell_type": "code",
      "source": [
        "len(sentences)"
      ],
      "metadata": {
        "colab": {
          "base_uri": "https://localhost:8080/"
        },
        "id": "XfCVuC7DWWJE",
        "outputId": "7233919f-5a2c-4f95-e05c-7f77e4150222"
      },
      "execution_count": 14,
      "outputs": [
        {
          "output_type": "execute_result",
          "data": {
            "text/plain": [
              "1893"
            ]
          },
          "metadata": {},
          "execution_count": 14
        }
      ]
    },
    {
      "cell_type": "markdown",
      "source": [
        "##max tokens in a sentence\n"
      ],
      "metadata": {
        "id": "AR-KA5t2XPq6"
      }
    },
    {
      "cell_type": "code",
      "source": [
        "max([len(tokenizer.tokenize(sentence)) for sentence in sentences])"
      ],
      "metadata": {
        "colab": {
          "base_uri": "https://localhost:8080/"
        },
        "id": "z41pumgTWZM0",
        "outputId": "f21f0571-2221-49c3-e744-f4deeb21b116"
      },
      "execution_count": 15,
      "outputs": [
        {
          "output_type": "execute_result",
          "data": {
            "text/plain": [
              "64"
            ]
          },
          "metadata": {},
          "execution_count": 15
        }
      ]
    },
    {
      "cell_type": "code",
      "source": [
        "length= 0\n",
        "chunk =\"\"\n",
        "chunks=[]\n",
        "count=-1\n",
        "\n",
        "for sentence in sentences:\n",
        "  count+=1\n",
        "  combined_length = len(tokenizer.tokenize(sentence)) + length\n",
        "\n",
        "  if combined_length<= tokenizer.max_len_single_sentence:\n",
        "    chunk+= sentence + \" \"\n",
        "    length= combined_length\n",
        "\n",
        "    if count == len(sentence) -1:\n",
        "      chunks.append(chunk.strip())\n",
        "    \n",
        "  else:\n",
        "    chunks.append(chunk.strip())\n",
        "\n",
        "    length=0\n",
        "    chunk= \"\"\n",
        "\n",
        "    chunk += sentence + \" \"\n",
        "    length= len(tokenizer.tokenize(sentence))\n",
        "\n",
        "len(chunks)"
      ],
      "metadata": {
        "colab": {
          "base_uri": "https://localhost:8080/"
        },
        "id": "MiUJpJ24XHtL",
        "outputId": "4f1c9cd3-c455-44df-e155-7e08eafe7c2d"
      },
      "execution_count": 16,
      "outputs": [
        {
          "output_type": "execute_result",
          "data": {
            "text/plain": [
              "26"
            ]
          },
          "metadata": {},
          "execution_count": 16
        }
      ]
    },
    {
      "cell_type": "code",
      "source": [
        "[len(tokenizer.tokenize(c)) for c in chunks]\n"
      ],
      "metadata": {
        "colab": {
          "base_uri": "https://localhost:8080/"
        },
        "id": "v9FOZKsqZfBb",
        "outputId": "a41e71e9-8057-4e9d-d3e7-54c5a2bdd5f8"
      },
      "execution_count": 17,
      "outputs": [
        {
          "output_type": "execute_result",
          "data": {
            "text/plain": [
              "[117,\n",
              " 363,\n",
              " 760,\n",
              " 1017,\n",
              " 1019,\n",
              " 987,\n",
              " 1008,\n",
              " 1020,\n",
              " 1020,\n",
              " 981,\n",
              " 977,\n",
              " 985,\n",
              " 1003,\n",
              " 1015,\n",
              " 1014,\n",
              " 1010,\n",
              " 994,\n",
              " 1018,\n",
              " 1009,\n",
              " 1009,\n",
              " 1016,\n",
              " 1006,\n",
              " 1016,\n",
              " 1004,\n",
              " 1017,\n",
              " 1011]"
            ]
          },
          "metadata": {},
          "execution_count": 17
        }
      ]
    },
    {
      "cell_type": "code",
      "source": [
        "[len(tokenizer(c).input_ids) for c in chunks]"
      ],
      "metadata": {
        "colab": {
          "base_uri": "https://localhost:8080/"
        },
        "id": "0q94qpnZZfqY",
        "outputId": "6509297f-736e-4086-8789-0dcc3da9de8c"
      },
      "execution_count": 18,
      "outputs": [
        {
          "output_type": "execute_result",
          "data": {
            "text/plain": [
              "[119,\n",
              " 365,\n",
              " 762,\n",
              " 1019,\n",
              " 1021,\n",
              " 989,\n",
              " 1010,\n",
              " 1022,\n",
              " 1022,\n",
              " 983,\n",
              " 979,\n",
              " 987,\n",
              " 1005,\n",
              " 1017,\n",
              " 1016,\n",
              " 1012,\n",
              " 996,\n",
              " 1020,\n",
              " 1011,\n",
              " 1011,\n",
              " 1018,\n",
              " 1008,\n",
              " 1018,\n",
              " 1006,\n",
              " 1019,\n",
              " 1013]"
            ]
          },
          "metadata": {},
          "execution_count": 18
        }
      ]
    },
    {
      "cell_type": "code",
      "source": [
        "sum([len(tokenizer(c).input_ids) for c in chunks])"
      ],
      "metadata": {
        "colab": {
          "base_uri": "https://localhost:8080/"
        },
        "id": "jFVDRbOkZ5CB",
        "outputId": "e8374b60-80bd-4d2f-e2dc-8e94494c22b4"
      },
      "execution_count": 19,
      "outputs": [
        {
          "output_type": "execute_result",
          "data": {
            "text/plain": [
              "24448"
            ]
          },
          "metadata": {},
          "execution_count": 19
        }
      ]
    },
    {
      "cell_type": "code",
      "source": [
        "len(tokenizer.tokenize(FileContent))"
      ],
      "metadata": {
        "colab": {
          "base_uri": "https://localhost:8080/"
        },
        "id": "a9x2Idz1aO0o",
        "outputId": "36bfc39f-c931-486b-93b1-2d16a61e9e86"
      },
      "execution_count": 20,
      "outputs": [
        {
          "output_type": "stream",
          "name": "stderr",
          "text": [
            "Token indices sequence length is longer than the specified maximum sequence length for this model (23182 > 1024). Running this sequence through the model will result in indexing errors\n"
          ]
        },
        {
          "output_type": "execute_result",
          "data": {
            "text/plain": [
              "23182"
            ]
          },
          "metadata": {},
          "execution_count": 20
        }
      ]
    },
    {
      "cell_type": "code",
      "source": [
        "inputs = [tokenizer(chunk, return_tensors=\"pt\") for chunk in chunks]"
      ],
      "metadata": {
        "id": "UFWhru2EaTp6"
      },
      "execution_count": 22,
      "outputs": []
    },
    {
      "cell_type": "code",
      "source": [
        "for input in inputs:\n",
        "  output=model.generate(**input)\n",
        "  print(tokenizer.decode(*output, skip_special_tokens=True))"
      ],
      "metadata": {
        "colab": {
          "base_uri": "https://localhost:8080/"
        },
        "id": "HFrM9N2tQRhK",
        "outputId": "88528475-c00f-423b-8602-4850b3f01e0d"
      },
      "execution_count": null,
      "outputs": [
        {
          "output_type": "stream",
          "name": "stderr",
          "text": [
            "/usr/local/lib/python3.8/dist-packages/transformers/generation/utils.py:1387: UserWarning: Neither `max_length` nor `max_new_tokens` has been set, `max_length` will default to 142 (`self.config.max_length`). Controlling `max_length` via the config is deprecated and `max_length` will be removed from the config in v5 of Transformers -- we recommend using `max_new_tokens` to control the maximum length of the generation.\n",
            "  warnings.warn(\n"
          ]
        },
        {
          "output_type": "stream",
          "name": "stdout",
          "text": [
            "Thank you. Thank you to Vice President Pence. We've done a great job together. And Merry Christmas, Michigan. What a victory we had in Michigan. One of the greats. Was that the greatest evening? But I'm thrilled to be here with thousands of hardworking patriots as we celebrate the miracle of Christmas.\n",
            "The president was in Michigan to celebrate Christmas with thousands of hardworking patriots. Trump: \"The country is doing better than ever before. We did nothing wrong. And we have tremendous support in the Republican Party like we've never had before\" \"It doesn't really feel like we're being impeached,\" he said.\n",
            "The president is in Michigan to celebrate Christmas with thousands of hardworking patriots. Trump: \"The country is doing better than ever before. The country is thriving and it's thriving truly like it has never, it's never happened before to the extent what's happening now\"\n",
            "The president is in Michigan, where he was named the Man Of The Year 10 years ago. He says the country is thriving and it's thriving truly like it has never happened before to the extent what's happening now. The USMCA deal with Mexico and Canada is a great deal for farmers.\n",
            "The president said he spoke to the unions the day before the speech and told them, \"Fellows, you got to get it done\" He said the Democrats are trying to take credit for this deal and that's okay. He also said the military was in bad shape and was depleted by the previous administrations.\n"
          ]
        }
      ]
    },
    {
      "cell_type": "code",
      "source": [],
      "metadata": {
        "id": "UN2wWrXnRGcO"
      },
      "execution_count": null,
      "outputs": []
    }
  ]
}